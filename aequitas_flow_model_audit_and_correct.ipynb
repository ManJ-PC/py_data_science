{
  "cells": [
    {
      "cell_type": "markdown",
      "metadata": {
        "id": "ZsqKO--9ksr5"
      },
      "source": [
        "\n",
        "<center><img src=\"https://raw.githubusercontent.com/dssg/aequitas/master/docs/_images/aequitas_logo.svg\" width=\"450\"></center>\n",
        "\n",
        "# Correcting the predictions of a Model\n",
        "\n",
        "In this notebook we will first **load a Machine Learning model** created through an **`Experiment`** of **Aequitas Flow**. We will  measure its performance and run a **fairness audit**  using the application-specific configurations.\n",
        "\n",
        "We will then apply a **post-processing method to correct the predictions**, and observe any **changes in fairness** and **performance**."
      ]
    },
    {
      "cell_type": "markdown",
      "metadata": {
        "id": "0wDrvM8_n5mv"
      },
      "source": [
        "---\n",
        "## Initial Setup\n",
        "\n",
        "This section covers the initial setup required for the notebook. We'll be **installing the most recent version of Aequitas**.\n",
        "\n",
        "> ⚠️ **This notebook assumes that an ML Model has already been trained**. ⚠️\n",
        "\n",
        "We'll also be retrieving the model pickle file from a previous experiment, downloading it directly from the [Aequitas Repository](https://github.com/dssg/aequitas/tree/master/examples). However, the notebook supports the use of other models or datasets."
      ]
    },
    {
      "cell_type": "code",
      "execution_count": 24,
      "metadata": {
        "id": "zPDql-NObJop"
      },
      "outputs": [],
      "source": [
        "# Install Aequitas\n",
        "!pip install \"aequitas==1.0.0\" &> /dev/null\n",
        "# This only needs to run once, or after your runtime environment gets deleted."
      ]
    },
    {
      "cell_type": "code",
      "execution_count": 25,
      "metadata": {
        "id": "1KK264RHq2CU"
      },
      "outputs": [],
      "source": [
        "# This will avoid double logging in Colab\n",
        "from aequitas.flow.utils.logging import clean_handlers\n",
        "\n",
        "clean_handlers()"
      ]
    },
    {
      "cell_type": "code",
      "execution_count": 26,
      "metadata": {
        "colab": {
          "base_uri": "https://localhost:8080/"
        },
        "id": "Jsmu0T87q6Bx",
        "outputId": "793b3344-b4e3-466d-8514-552c5472bd2a"
      },
      "outputs": [
        {
          "output_type": "stream",
          "name": "stdout",
          "text": [
            "[INFO] 2024-08-23 14:30:10 utils.colab - Downloading examples from fairflow repository.\n",
            "[INFO] 2024-08-23 14:30:12 utils.colab - Examples downloaded.\n"
          ]
        }
      ],
      "source": [
        "# This cell will download a model from the repository. You do not need to run it if you have your won model.\n",
        "from aequitas.flow.utils.colab import get_examples\n",
        "\n",
        "get_examples(\"experiment_results\")"
      ]
    },
    {
      "cell_type": "markdown",
      "metadata": {
        "id": "nGTwdp8Eo_Cg"
      },
      "source": [
        "---\n",
        "## Loading the model & datasets\n",
        "\n",
        "In this section we will load the model for the audit and the evaluation datasets.\n",
        "\n",
        "If you are testing your own model, make sure to send it to the Colab environment (or any other environment you are using this notebook on).\n",
        "\n",
        "Starting with the model:"
      ]
    },
    {
      "cell_type": "code",
      "execution_count": 27,
      "metadata": {
        "id": "UDl_KSJZrGUL"
      },
      "outputs": [],
      "source": [
        "pickle_path = \"examples/experiment_results/lgbm_baf_sample.pickle\""
      ]
    },
    {
      "cell_type": "code",
      "execution_count": 28,
      "metadata": {
        "id": "LpPU4HfO3UgA",
        "outputId": "def4e049-6cc1-4e03-bed5-956bf4e9e7c9",
        "colab": {
          "base_uri": "https://localhost:8080/"
        }
      },
      "outputs": [
        {
          "output_type": "stream",
          "name": "stderr",
          "text": [
            "/usr/local/lib/python3.10/dist-packages/sklearn/base.py:348: InconsistentVersionWarning: Trying to unpickle estimator LabelEncoder from version 1.2.2 when using version 1.3.2. This might lead to breaking code or invalid results. Use at your own risk. For more info please refer to:\n",
            "https://scikit-learn.org/stable/model_persistence.html#security-maintainability-limitations\n",
            "  warnings.warn(\n"
          ]
        }
      ],
      "source": [
        "# Change this cell if your model is loaded in a different form.\n",
        "import pickle\n",
        "\n",
        "with open(pickle_path, \"rb\") as f:\n",
        "    model = pickle.load(f)"
      ]
    },
    {
      "cell_type": "markdown",
      "metadata": {
        "id": "iJM2rtif3MrQ"
      },
      "source": [
        "In this example, we are using a sample of the **BankAccountFraud** dataset. This dataset presents a predictive task of detecting fraudulent attempts of bank account opening.\n",
        "\n",
        "In case you want to use a different dataset, make sure it is loaded as a pandas dataframe. If possible, configure an `aequitas.flow.datasets.GenericDataset`, for less changes in other cells.\n",
        "\n",
        "Now we will load the dataset:"
      ]
    },
    {
      "cell_type": "code",
      "execution_count": 29,
      "metadata": {
        "colab": {
          "base_uri": "https://localhost:8080/"
        },
        "id": "tNw7H0gEdnSZ",
        "outputId": "665a2812-b186-42ed-b053-ba9f2abe6bf2"
      },
      "outputs": [
        {
          "output_type": "stream",
          "name": "stdout",
          "text": [
            "[INFO] 2024-08-23 14:30:12 datasets.BankAccountFraud - Instantiating a BankAccountFraud dataset.\n",
            "[INFO] 2024-08-23 14:30:12 datasets.BankAccountFraud - Loading data from /usr/local/lib/python3.10/dist-packages/aequitas/datasets/BankAccountFraud/Sample.parquet\n"
          ]
        }
      ],
      "source": [
        "from aequitas.flow.methods.base_estimator import LightGBM\n",
        "from aequitas.flow.datasets import BankAccountFraud\n",
        "\n",
        "dataset = BankAccountFraud(\"Sample\")\n",
        "dataset.load_data()\n",
        "dataset.create_splits()\n",
        "\n",
        "validation = dataset.validation\n",
        "test = dataset.test"
      ]
    },
    {
      "cell_type": "markdown",
      "metadata": {
        "id": "ho6YLarf4rVJ"
      },
      "source": [
        "---\n",
        "## Obtaining the predictions and thresholding the model\n",
        "\n",
        "In the following cells, we will generate the predictions with the model and the dataset, and create a threshold for it."
      ]
    },
    {
      "cell_type": "code",
      "execution_count": 30,
      "metadata": {
        "id": "hZ1xMZ6I4YQd"
      },
      "outputs": [],
      "source": [
        "# If your model is not from\n",
        "preds_val = model.predict_proba(validation.X, validation.s)\n",
        "preds_test = model.predict_proba(test.X, test.s)"
      ]
    },
    {
      "cell_type": "markdown",
      "metadata": {
        "id": "JWRvvenC9XEf"
      },
      "source": [
        "We use the `Threshold` from Aequitas Flow for thresholding. In the specific use-case of the BankAccountFraud dataset, we are pointing for a positive prediciton rate of 5%. You can adjust that by changing the instantiation of this class.\n",
        "\n",
        "The Threshold will be fitted to a validation set, and used to binarize the test set. Note that you can threshold the same test you fit, but this might lead to overfitting."
      ]
    },
    {
      "cell_type": "code",
      "execution_count": 31,
      "metadata": {
        "colab": {
          "base_uri": "https://localhost:8080/"
        },
        "id": "S81IqlG3ozML",
        "outputId": "9fd71d30-d445-45da-fbc9-b58e4860f00f"
      },
      "outputs": [
        {
          "output_type": "stream",
          "name": "stdout",
          "text": [
            "[INFO] 2024-08-23 14:30:13 methods.postprocessing.Threshold - Instantiating postprocessing Threshold.\n",
            "[INFO] 2024-08-23 14:30:13 methods.postprocessing.Threshold - Computing threshold.\n",
            "[INFO] 2024-08-23 14:30:13 methods.postprocessing.Threshold - Finished computing threshold.\n"
          ]
        }
      ],
      "source": [
        "from aequitas.flow.methods.postprocessing import Threshold\n",
        "\n",
        "# We will create a threshold based to obtain 5% FPR on validation\n",
        "threshold = Threshold(threshold_type=\"top_pct\", threshold_value=0.05)\n",
        "threshold.fit(validation.X, preds_val, validation.y, validation.s)"
      ]
    },
    {
      "cell_type": "code",
      "execution_count": 32,
      "metadata": {
        "colab": {
          "base_uri": "https://localhost:8080/"
        },
        "id": "HmR4q725p5uQ",
        "outputId": "f11990e2-13b0-4dc7-fb02-cfd4932b83ce"
      },
      "outputs": [
        {
          "output_type": "stream",
          "name": "stdout",
          "text": [
            "[INFO] 2024-08-23 14:30:13 methods.postprocessing.Threshold - Transforming predictions.\n",
            "[INFO] 2024-08-23 14:30:13 methods.postprocessing.Threshold - Finished transforming predictions.\n"
          ]
        }
      ],
      "source": [
        "# Binarize test predictions with previously calculated threshold\n",
        "bin_preds_test = threshold.transform(test.X, preds_test, test.s)"
      ]
    },
    {
      "cell_type": "markdown",
      "metadata": {
        "id": "ROkY2ALE-hl3"
      },
      "source": [
        "---\n",
        "## Fairness Audit and Performance Evaluation\n",
        "\n",
        "Now, we will create the resources necessary to perform a fairness audit, and evaluate the model performance. These are:\n",
        "1. **Protected attribute**\n",
        "2. **Model predictions**\n",
        "3. **Labels**\n",
        "\n",
        "But first, we will have to define some configurations of this step."
      ]
    },
    {
      "cell_type": "markdown",
      "metadata": {
        "id": "nj9V5Hj4BQWc"
      },
      "source": [
        "As a brief summary of the task of the BankAccountFraud dataset, the performance is determined by the percentage of positive instances (frauds) detected (TPR). False Positives will incur in a non-fraudulent individual not having a bank account due to a false flag. Because of this, we want to equalize the rate of false positives (FPR) in relation to the protected attribute, in this case the customer age. The reference group for this task is the group with younger age (<50).\n",
        "\n",
        "> ⚠️ **Make sure to update the following configuration cell with the appropriate values for your use-case**. ⚠️"
      ]
    },
    {
      "cell_type": "code",
      "execution_count": 33,
      "metadata": {
        "id": "qPAaigjzArnO"
      },
      "outputs": [],
      "source": [
        "performance_metric = \"tpr\"\n",
        "fairness_metric = \"fpr\"\n",
        "\n",
        "# The column name of the sensitive attribute can be obtained from the aequitas.flow.Dataset object\n",
        "fairness_column = test.s.name\n",
        "# The reference group for the example of BAF is \"0\", i.e. individuals from the younger group (<50).\n",
        "reference_group = \"0\""
      ]
    },
    {
      "cell_type": "code",
      "execution_count": 34,
      "metadata": {
        "id": "tXZfmWuYn4M6"
      },
      "outputs": [],
      "source": [
        "# Creating a dataframe for the fairness audit\n",
        "audit_df = test.s.astype(str).to_frame()\n",
        "audit_df[\"label\"] = test.y\n",
        "# These might need to change if you are not using an aequitas.flow.Dataset object\n",
        "\n",
        "audit_df[\"score\"] = bin_preds_test"
      ]
    },
    {
      "cell_type": "markdown",
      "metadata": {
        "id": "qaM-U7_HcOlO"
      },
      "source": [
        "In the cell bellow we will see the minimal structure for a fairness audit DataFrame:"
      ]
    },
    {
      "cell_type": "code",
      "execution_count": 35,
      "metadata": {
        "colab": {
          "base_uri": "https://localhost:8080/",
          "height": 206
        },
        "id": "wg8YZRKxCZdJ",
        "outputId": "5b3aef01-d099-4fc5-bc82-04a9a8dcedd5"
      },
      "outputs": [
        {
          "output_type": "execute_result",
          "data": {
            "text/plain": [
              "      customer_age_bin  label  score\n",
              "92592                0      0      0\n",
              "88551                1      0      0\n",
              "94698                0      0      0\n",
              "88759                0      0      1\n",
              "87353                0      0      0"
            ],
            "text/html": [
              "\n",
              "  <div id=\"df-62d179fd-e6cd-4489-99ef-c3332c08befa\" class=\"colab-df-container\">\n",
              "    <div>\n",
              "<style scoped>\n",
              "    .dataframe tbody tr th:only-of-type {\n",
              "        vertical-align: middle;\n",
              "    }\n",
              "\n",
              "    .dataframe tbody tr th {\n",
              "        vertical-align: top;\n",
              "    }\n",
              "\n",
              "    .dataframe thead th {\n",
              "        text-align: right;\n",
              "    }\n",
              "</style>\n",
              "<table border=\"1\" class=\"dataframe\">\n",
              "  <thead>\n",
              "    <tr style=\"text-align: right;\">\n",
              "      <th></th>\n",
              "      <th>customer_age_bin</th>\n",
              "      <th>label</th>\n",
              "      <th>score</th>\n",
              "    </tr>\n",
              "  </thead>\n",
              "  <tbody>\n",
              "    <tr>\n",
              "      <th>92592</th>\n",
              "      <td>0</td>\n",
              "      <td>0</td>\n",
              "      <td>0</td>\n",
              "    </tr>\n",
              "    <tr>\n",
              "      <th>88551</th>\n",
              "      <td>1</td>\n",
              "      <td>0</td>\n",
              "      <td>0</td>\n",
              "    </tr>\n",
              "    <tr>\n",
              "      <th>94698</th>\n",
              "      <td>0</td>\n",
              "      <td>0</td>\n",
              "      <td>0</td>\n",
              "    </tr>\n",
              "    <tr>\n",
              "      <th>88759</th>\n",
              "      <td>0</td>\n",
              "      <td>0</td>\n",
              "      <td>1</td>\n",
              "    </tr>\n",
              "    <tr>\n",
              "      <th>87353</th>\n",
              "      <td>0</td>\n",
              "      <td>0</td>\n",
              "      <td>0</td>\n",
              "    </tr>\n",
              "  </tbody>\n",
              "</table>\n",
              "</div>\n",
              "    <div class=\"colab-df-buttons\">\n",
              "\n",
              "  <div class=\"colab-df-container\">\n",
              "    <button class=\"colab-df-convert\" onclick=\"convertToInteractive('df-62d179fd-e6cd-4489-99ef-c3332c08befa')\"\n",
              "            title=\"Convert this dataframe to an interactive table.\"\n",
              "            style=\"display:none;\">\n",
              "\n",
              "  <svg xmlns=\"http://www.w3.org/2000/svg\" height=\"24px\" viewBox=\"0 -960 960 960\">\n",
              "    <path d=\"M120-120v-720h720v720H120Zm60-500h600v-160H180v160Zm220 220h160v-160H400v160Zm0 220h160v-160H400v160ZM180-400h160v-160H180v160Zm440 0h160v-160H620v160ZM180-180h160v-160H180v160Zm440 0h160v-160H620v160Z\"/>\n",
              "  </svg>\n",
              "    </button>\n",
              "\n",
              "  <style>\n",
              "    .colab-df-container {\n",
              "      display:flex;\n",
              "      gap: 12px;\n",
              "    }\n",
              "\n",
              "    .colab-df-convert {\n",
              "      background-color: #E8F0FE;\n",
              "      border: none;\n",
              "      border-radius: 50%;\n",
              "      cursor: pointer;\n",
              "      display: none;\n",
              "      fill: #1967D2;\n",
              "      height: 32px;\n",
              "      padding: 0 0 0 0;\n",
              "      width: 32px;\n",
              "    }\n",
              "\n",
              "    .colab-df-convert:hover {\n",
              "      background-color: #E2EBFA;\n",
              "      box-shadow: 0px 1px 2px rgba(60, 64, 67, 0.3), 0px 1px 3px 1px rgba(60, 64, 67, 0.15);\n",
              "      fill: #174EA6;\n",
              "    }\n",
              "\n",
              "    .colab-df-buttons div {\n",
              "      margin-bottom: 4px;\n",
              "    }\n",
              "\n",
              "    [theme=dark] .colab-df-convert {\n",
              "      background-color: #3B4455;\n",
              "      fill: #D2E3FC;\n",
              "    }\n",
              "\n",
              "    [theme=dark] .colab-df-convert:hover {\n",
              "      background-color: #434B5C;\n",
              "      box-shadow: 0px 1px 3px 1px rgba(0, 0, 0, 0.15);\n",
              "      filter: drop-shadow(0px 1px 2px rgba(0, 0, 0, 0.3));\n",
              "      fill: #FFFFFF;\n",
              "    }\n",
              "  </style>\n",
              "\n",
              "    <script>\n",
              "      const buttonEl =\n",
              "        document.querySelector('#df-62d179fd-e6cd-4489-99ef-c3332c08befa button.colab-df-convert');\n",
              "      buttonEl.style.display =\n",
              "        google.colab.kernel.accessAllowed ? 'block' : 'none';\n",
              "\n",
              "      async function convertToInteractive(key) {\n",
              "        const element = document.querySelector('#df-62d179fd-e6cd-4489-99ef-c3332c08befa');\n",
              "        const dataTable =\n",
              "          await google.colab.kernel.invokeFunction('convertToInteractive',\n",
              "                                                    [key], {});\n",
              "        if (!dataTable) return;\n",
              "\n",
              "        const docLinkHtml = 'Like what you see? Visit the ' +\n",
              "          '<a target=\"_blank\" href=https://colab.research.google.com/notebooks/data_table.ipynb>data table notebook</a>'\n",
              "          + ' to learn more about interactive tables.';\n",
              "        element.innerHTML = '';\n",
              "        dataTable['output_type'] = 'display_data';\n",
              "        await google.colab.output.renderOutput(dataTable, element);\n",
              "        const docLink = document.createElement('div');\n",
              "        docLink.innerHTML = docLinkHtml;\n",
              "        element.appendChild(docLink);\n",
              "      }\n",
              "    </script>\n",
              "  </div>\n",
              "\n",
              "\n",
              "<div id=\"df-d8971604-7f01-4390-a2d2-ce832ebc2370\">\n",
              "  <button class=\"colab-df-quickchart\" onclick=\"quickchart('df-d8971604-7f01-4390-a2d2-ce832ebc2370')\"\n",
              "            title=\"Suggest charts\"\n",
              "            style=\"display:none;\">\n",
              "\n",
              "<svg xmlns=\"http://www.w3.org/2000/svg\" height=\"24px\"viewBox=\"0 0 24 24\"\n",
              "     width=\"24px\">\n",
              "    <g>\n",
              "        <path d=\"M19 3H5c-1.1 0-2 .9-2 2v14c0 1.1.9 2 2 2h14c1.1 0 2-.9 2-2V5c0-1.1-.9-2-2-2zM9 17H7v-7h2v7zm4 0h-2V7h2v10zm4 0h-2v-4h2v4z\"/>\n",
              "    </g>\n",
              "</svg>\n",
              "  </button>\n",
              "\n",
              "<style>\n",
              "  .colab-df-quickchart {\n",
              "      --bg-color: #E8F0FE;\n",
              "      --fill-color: #1967D2;\n",
              "      --hover-bg-color: #E2EBFA;\n",
              "      --hover-fill-color: #174EA6;\n",
              "      --disabled-fill-color: #AAA;\n",
              "      --disabled-bg-color: #DDD;\n",
              "  }\n",
              "\n",
              "  [theme=dark] .colab-df-quickchart {\n",
              "      --bg-color: #3B4455;\n",
              "      --fill-color: #D2E3FC;\n",
              "      --hover-bg-color: #434B5C;\n",
              "      --hover-fill-color: #FFFFFF;\n",
              "      --disabled-bg-color: #3B4455;\n",
              "      --disabled-fill-color: #666;\n",
              "  }\n",
              "\n",
              "  .colab-df-quickchart {\n",
              "    background-color: var(--bg-color);\n",
              "    border: none;\n",
              "    border-radius: 50%;\n",
              "    cursor: pointer;\n",
              "    display: none;\n",
              "    fill: var(--fill-color);\n",
              "    height: 32px;\n",
              "    padding: 0;\n",
              "    width: 32px;\n",
              "  }\n",
              "\n",
              "  .colab-df-quickchart:hover {\n",
              "    background-color: var(--hover-bg-color);\n",
              "    box-shadow: 0 1px 2px rgba(60, 64, 67, 0.3), 0 1px 3px 1px rgba(60, 64, 67, 0.15);\n",
              "    fill: var(--button-hover-fill-color);\n",
              "  }\n",
              "\n",
              "  .colab-df-quickchart-complete:disabled,\n",
              "  .colab-df-quickchart-complete:disabled:hover {\n",
              "    background-color: var(--disabled-bg-color);\n",
              "    fill: var(--disabled-fill-color);\n",
              "    box-shadow: none;\n",
              "  }\n",
              "\n",
              "  .colab-df-spinner {\n",
              "    border: 2px solid var(--fill-color);\n",
              "    border-color: transparent;\n",
              "    border-bottom-color: var(--fill-color);\n",
              "    animation:\n",
              "      spin 1s steps(1) infinite;\n",
              "  }\n",
              "\n",
              "  @keyframes spin {\n",
              "    0% {\n",
              "      border-color: transparent;\n",
              "      border-bottom-color: var(--fill-color);\n",
              "      border-left-color: var(--fill-color);\n",
              "    }\n",
              "    20% {\n",
              "      border-color: transparent;\n",
              "      border-left-color: var(--fill-color);\n",
              "      border-top-color: var(--fill-color);\n",
              "    }\n",
              "    30% {\n",
              "      border-color: transparent;\n",
              "      border-left-color: var(--fill-color);\n",
              "      border-top-color: var(--fill-color);\n",
              "      border-right-color: var(--fill-color);\n",
              "    }\n",
              "    40% {\n",
              "      border-color: transparent;\n",
              "      border-right-color: var(--fill-color);\n",
              "      border-top-color: var(--fill-color);\n",
              "    }\n",
              "    60% {\n",
              "      border-color: transparent;\n",
              "      border-right-color: var(--fill-color);\n",
              "    }\n",
              "    80% {\n",
              "      border-color: transparent;\n",
              "      border-right-color: var(--fill-color);\n",
              "      border-bottom-color: var(--fill-color);\n",
              "    }\n",
              "    90% {\n",
              "      border-color: transparent;\n",
              "      border-bottom-color: var(--fill-color);\n",
              "    }\n",
              "  }\n",
              "</style>\n",
              "\n",
              "  <script>\n",
              "    async function quickchart(key) {\n",
              "      const quickchartButtonEl =\n",
              "        document.querySelector('#' + key + ' button');\n",
              "      quickchartButtonEl.disabled = true;  // To prevent multiple clicks.\n",
              "      quickchartButtonEl.classList.add('colab-df-spinner');\n",
              "      try {\n",
              "        const charts = await google.colab.kernel.invokeFunction(\n",
              "            'suggestCharts', [key], {});\n",
              "      } catch (error) {\n",
              "        console.error('Error during call to suggestCharts:', error);\n",
              "      }\n",
              "      quickchartButtonEl.classList.remove('colab-df-spinner');\n",
              "      quickchartButtonEl.classList.add('colab-df-quickchart-complete');\n",
              "    }\n",
              "    (() => {\n",
              "      let quickchartButtonEl =\n",
              "        document.querySelector('#df-d8971604-7f01-4390-a2d2-ce832ebc2370 button');\n",
              "      quickchartButtonEl.style.display =\n",
              "        google.colab.kernel.accessAllowed ? 'block' : 'none';\n",
              "    })();\n",
              "  </script>\n",
              "</div>\n",
              "\n",
              "    </div>\n",
              "  </div>\n"
            ],
            "application/vnd.google.colaboratory.intrinsic+json": {
              "type": "dataframe",
              "summary": "{\n  \"name\": \"audit_df\",\n  \"rows\": 5,\n  \"fields\": [\n    {\n      \"column\": \"customer_age_bin\",\n      \"properties\": {\n        \"dtype\": \"category\",\n        \"num_unique_values\": 2,\n        \"samples\": [\n          \"1\",\n          \"0\"\n        ],\n        \"semantic_type\": \"\",\n        \"description\": \"\"\n      }\n    },\n    {\n      \"column\": \"label\",\n      \"properties\": {\n        \"dtype\": \"number\",\n        \"std\": 0,\n        \"min\": 0,\n        \"max\": 0,\n        \"num_unique_values\": 1,\n        \"samples\": [\n          0\n        ],\n        \"semantic_type\": \"\",\n        \"description\": \"\"\n      }\n    },\n    {\n      \"column\": \"score\",\n      \"properties\": {\n        \"dtype\": \"number\",\n        \"std\": 0,\n        \"min\": 0,\n        \"max\": 1,\n        \"num_unique_values\": 2,\n        \"samples\": [\n          1\n        ],\n        \"semantic_type\": \"\",\n        \"description\": \"\"\n      }\n    }\n  ]\n}"
            }
          },
          "metadata": {},
          "execution_count": 35
        }
      ],
      "source": [
        "audit_df.sample(n=5, random_state=2)"
      ]
    },
    {
      "cell_type": "markdown",
      "metadata": {
        "id": "bNH9djTU_7mg"
      },
      "source": [
        "We will quickly observe the performance of the model with a method for the effect.\n",
        "\n",
        "In this dataset, we are using global **TPR** as performance metric."
      ]
    },
    {
      "cell_type": "code",
      "execution_count": 36,
      "metadata": {
        "colab": {
          "base_uri": "https://localhost:8080/",
          "height": 115
        },
        "id": "2AlL6HKJroKk",
        "outputId": "2803edc5-d505-4c3b-bea5-afcc27532b5f"
      },
      "outputs": [
        {
          "output_type": "execute_result",
          "data": {
            "text/plain": [
              "0    0.476395\n",
              "Name: tpr, dtype: float64"
            ],
            "text/html": [
              "<div>\n",
              "<style scoped>\n",
              "    .dataframe tbody tr th:only-of-type {\n",
              "        vertical-align: middle;\n",
              "    }\n",
              "\n",
              "    .dataframe tbody tr th {\n",
              "        vertical-align: top;\n",
              "    }\n",
              "\n",
              "    .dataframe thead th {\n",
              "        text-align: right;\n",
              "    }\n",
              "</style>\n",
              "<table border=\"1\" class=\"dataframe\">\n",
              "  <thead>\n",
              "    <tr style=\"text-align: right;\">\n",
              "      <th></th>\n",
              "      <th>tpr</th>\n",
              "    </tr>\n",
              "  </thead>\n",
              "  <tbody>\n",
              "    <tr>\n",
              "      <th>0</th>\n",
              "      <td>0.476395</td>\n",
              "    </tr>\n",
              "  </tbody>\n",
              "</table>\n",
              "</div><br><label><b>dtype:</b> float64</label>"
            ]
          },
          "metadata": {},
          "execution_count": 36
        }
      ],
      "source": [
        "from aequitas.audit import Audit\n",
        "\n",
        "audit = Audit(audit_df, reference_groups={fairness_column: reference_group})\n",
        "audit.performance()[performance_metric]"
      ]
    },
    {
      "cell_type": "markdown",
      "metadata": {
        "id": "uqb4jcJ3ATxi"
      },
      "source": [
        "We will now perform the fairness audit:"
      ]
    },
    {
      "cell_type": "code",
      "execution_count": 37,
      "metadata": {
        "colab": {
          "base_uri": "https://localhost:8080/",
          "height": 613
        },
        "id": "_P_7XVnz5f5S",
        "outputId": "c99709d7-63d9-4046-9ea3-a842c14d2227"
      },
      "outputs": [
        {
          "output_type": "stream",
          "name": "stderr",
          "text": [
            "/usr/local/lib/python3.10/dist-packages/aequitas/plot/summary_chart.py:373: FutureWarning: The provided callable <built-in function min> is currently using SeriesGroupBy.min. In a future version of pandas, the provided callable will be used directly. To keep current behavior pass the string \"min\" instead.\n",
            "  .agg(\n",
            "/usr/local/lib/python3.10/dist-packages/aequitas/plot/summary_chart.py:373: FutureWarning: The provided callable <built-in function min> is currently using SeriesGroupBy.min. In a future version of pandas, the provided callable will be used directly. To keep current behavior pass the string \"min\" instead.\n",
            "  .agg(\n",
            "/usr/local/lib/python3.10/dist-packages/aequitas/plot/summary_chart.py:373: FutureWarning: The provided callable <built-in function sum> is currently using SeriesGroupBy.sum. In a future version of pandas, the provided callable will be used directly. To keep current behavior pass the string \"sum\" instead.\n",
            "  .agg(\n",
            "/usr/local/lib/python3.10/dist-packages/altair/utils/core.py:384: FutureWarning: the convert_dtype parameter is deprecated and will be removed in a future version.  Do ``ser.astype(object).apply()`` instead if you want ``convert_dtype=False``.\n",
            "  col = df[col_name].apply(to_list_if_array, convert_dtype=False)\n",
            "/usr/local/lib/python3.10/dist-packages/altair/utils/core.py:384: FutureWarning: the convert_dtype parameter is deprecated and will be removed in a future version.  Do ``ser.astype(object).apply()`` instead if you want ``convert_dtype=False``.\n",
            "  col = df[col_name].apply(to_list_if_array, convert_dtype=False)\n",
            "/usr/local/lib/python3.10/dist-packages/altair/utils/core.py:384: FutureWarning: the convert_dtype parameter is deprecated and will be removed in a future version.  Do ``ser.astype(object).apply()`` instead if you want ``convert_dtype=False``.\n",
            "  col = df[col_name].apply(to_list_if_array, convert_dtype=False)\n",
            "/usr/local/lib/python3.10/dist-packages/altair/utils/core.py:384: FutureWarning: the convert_dtype parameter is deprecated and will be removed in a future version.  Do ``ser.astype(object).apply()`` instead if you want ``convert_dtype=False``.\n",
            "  col = df[col_name].apply(to_list_if_array, convert_dtype=False)\n",
            "/usr/local/lib/python3.10/dist-packages/altair/utils/core.py:384: FutureWarning: the convert_dtype parameter is deprecated and will be removed in a future version.  Do ``ser.astype(object).apply()`` instead if you want ``convert_dtype=False``.\n",
            "  col = df[col_name].apply(to_list_if_array, convert_dtype=False)\n",
            "/usr/local/lib/python3.10/dist-packages/altair/utils/core.py:384: FutureWarning: the convert_dtype parameter is deprecated and will be removed in a future version.  Do ``ser.astype(object).apply()`` instead if you want ``convert_dtype=False``.\n",
            "  col = df[col_name].apply(to_list_if_array, convert_dtype=False)\n",
            "/usr/local/lib/python3.10/dist-packages/altair/utils/core.py:384: FutureWarning: the convert_dtype parameter is deprecated and will be removed in a future version.  Do ``ser.astype(object).apply()`` instead if you want ``convert_dtype=False``.\n",
            "  col = df[col_name].apply(to_list_if_array, convert_dtype=False)\n"
          ]
        },
        {
          "output_type": "execute_result",
          "data": {
            "text/html": [
              "\n",
              "<div id=\"altair-viz-47aa3e4048374f4f86d4e7e71bea6642\"></div>\n",
              "<script type=\"text/javascript\">\n",
              "  var VEGA_DEBUG = (typeof VEGA_DEBUG == \"undefined\") ? {} : VEGA_DEBUG;\n",
              "  (function(spec, embedOpt){\n",
              "    let outputDiv = document.currentScript.previousElementSibling;\n",
              "    if (outputDiv.id !== \"altair-viz-47aa3e4048374f4f86d4e7e71bea6642\") {\n",
              "      outputDiv = document.getElementById(\"altair-viz-47aa3e4048374f4f86d4e7e71bea6642\");\n",
              "    }\n",
              "    const paths = {\n",
              "      \"vega\": \"https://cdn.jsdelivr.net/npm//vega@5?noext\",\n",
              "      \"vega-lib\": \"https://cdn.jsdelivr.net/npm//vega-lib?noext\",\n",
              "      \"vega-lite\": \"https://cdn.jsdelivr.net/npm//vega-lite@4.17.0?noext\",\n",
              "      \"vega-embed\": \"https://cdn.jsdelivr.net/npm//vega-embed@6?noext\",\n",
              "    };\n",
              "\n",
              "    function maybeLoadScript(lib, version) {\n",
              "      var key = `${lib.replace(\"-\", \"\")}_version`;\n",
              "      return (VEGA_DEBUG[key] == version) ?\n",
              "        Promise.resolve(paths[lib]) :\n",
              "        new Promise(function(resolve, reject) {\n",
              "          var s = document.createElement('script');\n",
              "          document.getElementsByTagName(\"head\")[0].appendChild(s);\n",
              "          s.async = true;\n",
              "          s.onload = () => {\n",
              "            VEGA_DEBUG[key] = version;\n",
              "            return resolve(paths[lib]);\n",
              "          };\n",
              "          s.onerror = () => reject(`Error loading script: ${paths[lib]}`);\n",
              "          s.src = paths[lib];\n",
              "        });\n",
              "    }\n",
              "\n",
              "    function showError(err) {\n",
              "      outputDiv.innerHTML = `<div class=\"error\" style=\"color:red;\">${err}</div>`;\n",
              "      throw err;\n",
              "    }\n",
              "\n",
              "    function displayChart(vegaEmbed) {\n",
              "      vegaEmbed(outputDiv, spec, embedOpt)\n",
              "        .catch(err => showError(`Javascript Error: ${err.message}<br>This usually means there's a typo in your chart specification. See the javascript console for the full traceback.`));\n",
              "    }\n",
              "\n",
              "    if(typeof define === \"function\" && define.amd) {\n",
              "      requirejs.config({paths});\n",
              "      require([\"vega-embed\"], displayChart, err => showError(`Error loading script: ${err.message}`));\n",
              "    } else {\n",
              "      maybeLoadScript(\"vega\", \"5\")\n",
              "        .then(() => maybeLoadScript(\"vega-lite\", \"4.17.0\"))\n",
              "        .then(() => maybeLoadScript(\"vega-embed\", \"6\"))\n",
              "        .catch(showError)\n",
              "        .then(() => displayChart(vegaEmbed));\n",
              "    }\n",
              "  })({\"config\": {\"view\": {\"continuousWidth\": 400, \"continuousHeight\": 300, \"strokeWidth\": 0}, \"legend\": {\"labelColor\": \"rgb(102, 111, 137)\", \"labelFont\": \"Roboto, Arial, sans-serif\", \"labelFontSize\": 12, \"rowPadding\": 4, \"symbolSize\": 40, \"titleBaseline\": \"top\", \"titleColor\": \"rgb(25, 39, 78)\", \"titleFont\": \"Roboto, Arial, sans-serif\", \"titleFontSize\": 12, \"titleFontWeight\": \"bold\", \"titlePadding\": 8}}, \"vconcat\": [{\"hconcat\": [{\"vconcat\": [{\"mark\": {\"type\": \"text\", \"align\": \"center\", \"baseline\": \"middle\", \"color\": \"rgb(25, 39, 78)\", \"font\": \"Roboto, Arial, sans-serif\", \"fontWeight\": \"bold\", \"size\": 14}, \"encoding\": {\"text\": {\"value\": \"\"}}, \"height\": 19.5, \"width\": 32.0}, {\"layer\": [{\"mark\": {\"type\": \"text\", \"align\": \"center\", \"baseline\": \"middle\", \"color\": \"rgb(25, 39, 78)\", \"font\": \"Roboto, Arial, sans-serif\", \"fontWeight\": \"bold\", \"size\": 14}, \"encoding\": {\"text\": {\"value\": \"FPR\"}, \"y\": {\"axis\": {\"domain\": false, \"grid\": false, \"labels\": false, \"ticks\": false, \"title\": null}, \"field\": \"y_position\", \"scale\": {\"domain\": [3, 1]}, \"type\": \"quantitative\"}}, \"transform\": [{\"calculate\": \"1.2\", \"as\": \"y_position\"}]}, {\"mark\": {\"type\": \"text\", \"align\": \"center\", \"baseline\": \"middle\", \"color\": \"rgb(102, 111, 137)\", \"font\": \"Roboto, Arial, sans-serif\", \"size\": 12}, \"encoding\": {\"text\": {\"value\": \"Groups\"}, \"y\": {\"axis\": {\"domain\": false, \"grid\": false, \"labels\": false, \"ticks\": false, \"title\": null}, \"field\": \"y_position\", \"scale\": {\"domain\": [3, 1]}, \"type\": \"quantitative\"}}, \"transform\": [{\"calculate\": \"2\", \"as\": \"y_position\"}]}, {\"mark\": {\"type\": \"text\", \"align\": \"center\", \"baseline\": \"middle\", \"color\": \"rgb(102, 111, 137)\", \"font\": \"Roboto, Arial, sans-serif\", \"size\": 12}, \"encoding\": {\"text\": {\"value\": \"% Pop.\"}, \"y\": {\"axis\": {\"domain\": false, \"grid\": false, \"labels\": false, \"ticks\": false, \"title\": null}, \"field\": \"y_position\", \"scale\": {\"domain\": [3, 1]}, \"type\": \"quantitative\"}}, \"transform\": [{\"calculate\": \"2.7\", \"as\": \"y_position\"}]}], \"height\": 84.5, \"width\": 32.0}], \"bounds\": \"flush\", \"data\": {\"name\": \"data-79dd248bdaa0ea02c535240e8ad022c8\"}, \"spacing\": 26.0}, {\"hconcat\": [{\"vconcat\": [{\"data\": {\"name\": \"data-79dd248bdaa0ea02c535240e8ad022c8\"}, \"mark\": {\"type\": \"text\", \"align\": \"center\", \"baseline\": \"middle\", \"color\": \"rgb(25, 39, 78)\", \"font\": \"Roboto, Arial, sans-serif\", \"fontWeight\": \"bold\", \"size\": 14}, \"encoding\": {\"text\": {\"value\": \"Customer_Age_Bin\"}}, \"height\": 19.5, \"width\": 240.0}, {\"layer\": [{\"data\": {\"name\": \"data-0648884f34076ca4404072fa7f837079\"}, \"mark\": {\"type\": \"text\", \"align\": \"center\", \"baseline\": \"middle\", \"font\": \"Roboto, Arial, sans-serif\", \"fontWeight\": \"bold\", \"size\": 20}, \"encoding\": {\"color\": {\"field\": \"parity_result\", \"legend\": {\"offset\": 0, \"padding\": 20, \"title\": \"Parity Test\"}, \"scale\": {\"domain\": [\"Reference\", \"Pass\", \"Fail\"], \"range\": [\"rgb(102, 111, 137)\", \"rgb(0, 163, 158)\", \"rgb(211, 47, 47)\"]}, \"type\": \"ordinal\"}, \"text\": {\"value\": \"FAIL\"}, \"y\": {\"axis\": {\"domain\": false, \"grid\": false, \"labels\": false, \"ticks\": false, \"title\": null}, \"field\": \"y_position\", \"scale\": {\"domain\": [3, 1]}, \"type\": \"quantitative\"}}, \"transform\": [{\"calculate\": \"1\", \"as\": \"y_position\"}]}, {\"data\": {\"name\": \"data-c25ba822395f53cc57f2374d7b4218f0\"}, \"mark\": {\"type\": \"bar\", \"size\": 6, \"stroke\": \"white\"}, \"encoding\": {\"color\": {\"field\": \"fpr_parity_result\", \"legend\": null, \"scale\": {\"domain\": [\"Reference\", \"Pass\", \"Fail\"], \"range\": [\"rgb(102, 111, 137)\", \"rgb(0, 163, 158)\", \"rgb(211, 47, 47)\"]}, \"type\": \"ordinal\"}, \"tooltip\": [{\"field\": \"fpr_parity_result\", \"title\": \"Parity\", \"type\": \"nominal\"}, {\"field\": \"tooltip_group_size\", \"title\": \"Size\", \"type\": \"nominal\"}, {\"field\": \"tooltip_groups_name_size\", \"title\": \"Groups\", \"type\": \"nominal\"}], \"x\": {\"aggregate\": \"sum\", \"axis\": {\"domain\": false, \"grid\": false, \"labels\": false, \"ticks\": false, \"title\": null}, \"field\": \"group_size\", \"stack\": \"normalize\", \"type\": \"quantitative\"}, \"y\": {\"axis\": {\"domain\": false, \"grid\": false, \"labels\": false, \"ticks\": false, \"title\": null}, \"field\": \"y_position\", \"scale\": {\"domain\": [3, 1]}, \"type\": \"quantitative\"}}, \"transform\": [{\"calculate\": \"2.8\", \"as\": \"y_position\"}]}, {\"data\": {\"name\": \"data-65db64949b9a5a153994b6533c3f51cf\"}, \"mark\": {\"type\": \"circle\", \"opacity\": 1}, \"encoding\": {\"color\": {\"field\": \"fpr_parity_result\", \"legend\": null, \"scale\": {\"domain\": [\"Reference\", \"Pass\", \"Fail\"], \"range\": [\"rgb(102, 111, 137)\", \"rgb(0, 163, 158)\", \"rgb(211, 47, 47)\"]}, \"type\": \"ordinal\"}, \"size\": {\"value\": 300}, \"tooltip\": [{\"field\": \"attribute_value\", \"title\": \"Group\", \"type\": \"nominal\"}, {\"field\": \"tooltip_group_size\", \"title\": \"Group Size\", \"type\": \"nominal\"}, {\"field\": \"tooltip_parity_test_explanation_fpr\", \"title\": \"Parity Test\", \"type\": \"nominal\"}, {\"field\": \"tooltip_disparity_explanation_fpr\", \"title\": \"Disparity\", \"type\": \"nominal\"}, {\"field\": \"fpr\", \"format\": \".2f\", \"title\": \"FPR\", \"type\": \"quantitative\"}], \"x\": {\"axis\": {\"domain\": false, \"grid\": false, \"labels\": false, \"ticks\": false, \"title\": null}, \"field\": \"fpr_disparity_rank\", \"scale\": {\"domain\": [-2, 2], \"nice\": false}, \"type\": \"quantitative\"}, \"y\": {\"axis\": {\"domain\": false, \"grid\": false, \"labels\": false, \"ticks\": false, \"title\": null}, \"field\": \"y_position\", \"scale\": {\"domain\": [3, 1]}, \"type\": \"quantitative\"}}, \"transform\": [{\"calculate\": \"2\", \"as\": \"y_position\"}]}], \"height\": 84.5, \"resolve\": {\"scale\": {\"x\": \"independent\"}}, \"width\": 240.0}], \"bounds\": \"flush\", \"spacing\": 26.0}], \"bounds\": \"flush\", \"spacing\": 288.0}], \"bounds\": \"flush\", \"spacing\": 80.0}, {\"layer\": [{\"mark\": {\"type\": \"text\", \"align\": \"left\", \"baseline\": \"top\", \"fill\": \"rgb(102, 111, 137)\", \"font\": \"Roboto, Arial, sans-serif\", \"fontSize\": 12, \"fontWeight\": \"normal\"}, \"encoding\": {\"text\": {\"value\": \"For a group to pass the parity test its disparity to the reference group cannot exceed the fairness threshold (1.25).\"}, \"x\": {\"value\": 24.0}, \"y\": {\"value\": 0}}}, {\"mark\": {\"type\": \"text\", \"align\": \"left\", \"baseline\": \"top\", \"fill\": \"rgb(102, 111, 137)\", \"font\": \"Roboto, Arial, sans-serif\", \"fontSize\": 12, \"fontWeight\": \"normal\"}, \"encoding\": {\"text\": {\"value\": \"An attribute passes the parity test for a given metric if all its groups pass the test.\"}, \"x\": {\"value\": 24.0}, \"y\": {\"value\": 15.0}}}], \"data\": {\"name\": \"data-79dd248bdaa0ea02c535240e8ad022c8\"}}], \"padding\": 15, \"usermeta\": {\"embedOptions\": {\"scaleFactor\": 5, \"downloadFileName\": \"summary_chart\"}}, \"$schema\": \"https://vega.github.io/schema/vega-lite/v4.17.0.json\", \"datasets\": {\"data-79dd248bdaa0ea02c535240e8ad022c8\": [{\"a\": 1, \"b\": 0}, {\"a\": 1, \"b\": 0}], \"data-0648884f34076ca4404072fa7f837079\": [{\"parity_result\": \"Fail\"}], \"data-c25ba822395f53cc57f2374d7b4218f0\": [{\"fpr_parity_result\": \"Fail\", \"attribute_name\": \"customer_age_bin\", \"total_entities\": 15000, \"group_size\": 2010, \"tooltip_groups_name_size\": \"1 (2,010)\", \"tooltip_group_size\": \"2,010 (13.40%)\"}, {\"fpr_parity_result\": \"Reference\", \"attribute_name\": \"customer_age_bin\", \"total_entities\": 15000, \"group_size\": 12990, \"tooltip_groups_name_size\": \"0 (12,990)\", \"tooltip_group_size\": \"12,990 (86.60%)\"}], \"data-65db64949b9a5a153994b6533c3f51cf\": [{\"attribute_name\": \"customer_age_bin\", \"attribute_value\": \"0\", \"group_size\": 12990, \"total_entities\": 15000, \"ref_group_value\": \"0\", \"fpr\": 0.03346072849231729, \"fpr_disparity\": 1.0, \"fpr_disparity_scaled\": 0.0, \"fpr_parity_result\": \"Reference\", \"tooltip_parity_test_explanation_fpr\": \"Reference group\", \"tooltip_disparity_explanation_fpr\": \"Reference group\", \"tooltip_group_size\": \"12,990 (86.60%)\", \"fpr_disparity_rank\": 0.0, \"group_size_formatted\": \"12,990\", \"tooltip_groups_name_size\": \"0 (12,990)\"}, {\"attribute_name\": \"customer_age_bin\", \"attribute_value\": \"1\", \"group_size\": 2010, \"total_entities\": 15000, \"ref_group_value\": \"0\", \"fpr\": 0.1079136690647482, \"fpr_disparity\": 3.2250842682497356, \"fpr_disparity_scaled\": 2.2250842682497356, \"fpr_parity_result\": \"Fail\", \"tooltip_parity_test_explanation_fpr\": \"Fail. Above fairness threshold of 1.25\", \"tooltip_disparity_explanation_fpr\": \"3.23 times larger FPR than the reference group\", \"tooltip_group_size\": \"2,010 (13.40%)\", \"fpr_disparity_rank\": 1.0, \"group_size_formatted\": \"2,010\", \"tooltip_groups_name_size\": \"1 (2,010)\"}]}}, {\"mode\": \"vega-lite\"});\n",
              "</script>"
            ],
            "text/plain": [
              "alt.VConcatChart(...)"
            ]
          },
          "metadata": {},
          "execution_count": 37
        }
      ],
      "source": [
        "audit.audit()\n",
        "audit.summary_plot(fairness_metric)"
      ]
    },
    {
      "cell_type": "code",
      "execution_count": 38,
      "metadata": {
        "colab": {
          "base_uri": "https://localhost:8080/",
          "height": 588
        },
        "id": "2Z39au5opa3l",
        "outputId": "8a67a01e-e856-43db-eca5-bc9e948dd7d6"
      },
      "outputs": [
        {
          "output_type": "stream",
          "name": "stderr",
          "text": [
            "/usr/local/lib/python3.10/dist-packages/altair/utils/core.py:384: FutureWarning: the convert_dtype parameter is deprecated and will be removed in a future version.  Do ``ser.astype(object).apply()`` instead if you want ``convert_dtype=False``.\n",
            "  col = df[col_name].apply(to_list_if_array, convert_dtype=False)\n",
            "/usr/local/lib/python3.10/dist-packages/altair/utils/core.py:384: FutureWarning: the convert_dtype parameter is deprecated and will be removed in a future version.  Do ``ser.astype(object).apply()`` instead if you want ``convert_dtype=False``.\n",
            "  col = df[col_name].apply(to_list_if_array, convert_dtype=False)\n",
            "/usr/local/lib/python3.10/dist-packages/altair/utils/core.py:384: FutureWarning: the convert_dtype parameter is deprecated and will be removed in a future version.  Do ``ser.astype(object).apply()`` instead if you want ``convert_dtype=False``.\n",
            "  col = df[col_name].apply(to_list_if_array, convert_dtype=False)\n",
            "/usr/local/lib/python3.10/dist-packages/altair/utils/core.py:384: FutureWarning: the convert_dtype parameter is deprecated and will be removed in a future version.  Do ``ser.astype(object).apply()`` instead if you want ``convert_dtype=False``.\n",
            "  col = df[col_name].apply(to_list_if_array, convert_dtype=False)\n",
            "/usr/local/lib/python3.10/dist-packages/altair/utils/core.py:384: FutureWarning: the convert_dtype parameter is deprecated and will be removed in a future version.  Do ``ser.astype(object).apply()`` instead if you want ``convert_dtype=False``.\n",
            "  col = df[col_name].apply(to_list_if_array, convert_dtype=False)\n",
            "/usr/local/lib/python3.10/dist-packages/altair/utils/core.py:384: FutureWarning: the convert_dtype parameter is deprecated and will be removed in a future version.  Do ``ser.astype(object).apply()`` instead if you want ``convert_dtype=False``.\n",
            "  col = df[col_name].apply(to_list_if_array, convert_dtype=False)\n",
            "/usr/local/lib/python3.10/dist-packages/altair/utils/core.py:384: FutureWarning: the convert_dtype parameter is deprecated and will be removed in a future version.  Do ``ser.astype(object).apply()`` instead if you want ``convert_dtype=False``.\n",
            "  col = df[col_name].apply(to_list_if_array, convert_dtype=False)\n"
          ]
        },
        {
          "output_type": "execute_result",
          "data": {
            "text/html": [
              "\n",
              "<div id=\"altair-viz-87d6e7d920c64037b54a2b562049bf87\"></div>\n",
              "<script type=\"text/javascript\">\n",
              "  var VEGA_DEBUG = (typeof VEGA_DEBUG == \"undefined\") ? {} : VEGA_DEBUG;\n",
              "  (function(spec, embedOpt){\n",
              "    let outputDiv = document.currentScript.previousElementSibling;\n",
              "    if (outputDiv.id !== \"altair-viz-87d6e7d920c64037b54a2b562049bf87\") {\n",
              "      outputDiv = document.getElementById(\"altair-viz-87d6e7d920c64037b54a2b562049bf87\");\n",
              "    }\n",
              "    const paths = {\n",
              "      \"vega\": \"https://cdn.jsdelivr.net/npm//vega@5?noext\",\n",
              "      \"vega-lib\": \"https://cdn.jsdelivr.net/npm//vega-lib?noext\",\n",
              "      \"vega-lite\": \"https://cdn.jsdelivr.net/npm//vega-lite@4.17.0?noext\",\n",
              "      \"vega-embed\": \"https://cdn.jsdelivr.net/npm//vega-embed@6?noext\",\n",
              "    };\n",
              "\n",
              "    function maybeLoadScript(lib, version) {\n",
              "      var key = `${lib.replace(\"-\", \"\")}_version`;\n",
              "      return (VEGA_DEBUG[key] == version) ?\n",
              "        Promise.resolve(paths[lib]) :\n",
              "        new Promise(function(resolve, reject) {\n",
              "          var s = document.createElement('script');\n",
              "          document.getElementsByTagName(\"head\")[0].appendChild(s);\n",
              "          s.async = true;\n",
              "          s.onload = () => {\n",
              "            VEGA_DEBUG[key] = version;\n",
              "            return resolve(paths[lib]);\n",
              "          };\n",
              "          s.onerror = () => reject(`Error loading script: ${paths[lib]}`);\n",
              "          s.src = paths[lib];\n",
              "        });\n",
              "    }\n",
              "\n",
              "    function showError(err) {\n",
              "      outputDiv.innerHTML = `<div class=\"error\" style=\"color:red;\">${err}</div>`;\n",
              "      throw err;\n",
              "    }\n",
              "\n",
              "    function displayChart(vegaEmbed) {\n",
              "      vegaEmbed(outputDiv, spec, embedOpt)\n",
              "        .catch(err => showError(`Javascript Error: ${err.message}<br>This usually means there's a typo in your chart specification. See the javascript console for the full traceback.`));\n",
              "    }\n",
              "\n",
              "    if(typeof define === \"function\" && define.amd) {\n",
              "      requirejs.config({paths});\n",
              "      require([\"vega-embed\"], displayChart, err => showError(`Error loading script: ${err.message}`));\n",
              "    } else {\n",
              "      maybeLoadScript(\"vega\", \"5\")\n",
              "        .then(() => maybeLoadScript(\"vega-lite\", \"4.17.0\"))\n",
              "        .then(() => maybeLoadScript(\"vega-embed\", \"6\"))\n",
              "        .catch(showError)\n",
              "        .then(() => displayChart(vegaEmbed));\n",
              "    }\n",
              "  })({\"config\": {\"view\": {\"continuousWidth\": 400, \"continuousHeight\": 300, \"strokeWidth\": 0}, \"axisLeft\": {\"labelColor\": \"rgb(102, 111, 137)\", \"labelFont\": \"Roboto, Arial, sans-serif\", \"labelFontSize\": 16}, \"title\": {\"anchor\": \"start\", \"color\": \"rgb(25, 39, 78)\", \"font\": \"Roboto, Arial, sans-serif\", \"fontSize\": 20, \"fontWeight\": \"bold\", \"offset\": 20}}, \"layer\": [{\"data\": {\"name\": \"data-3cfa9b4d6f3fddf01801308f8cb5f93f\"}, \"mark\": {\"type\": \"rule\", \"stroke\": \"rgb(102, 111, 137)\", \"strokeWidth\": 1.25, \"tooltip\": null}, \"encoding\": {\"x\": {\"field\": \"x\", \"scale\": {\"domain\": [-3, 3], \"range\": [40.0, 760.0]}, \"type\": \"quantitative\"}, \"x2\": {\"field\": \"x2\"}, \"y\": {\"axis\": {\"domain\": false, \"labelAngle\": 0, \"labelPadding\": -30, \"orient\": \"left\", \"ticks\": false, \"title\": null}, \"field\": \"metric\", \"scale\": {\"domain\": [\"FPR\"], \"range\": [30, 225.0]}, \"type\": \"nominal\"}}}, {\"data\": {\"name\": \"data-79dd248bdaa0ea02c535240e8ad022c8\"}, \"mark\": {\"type\": \"rule\", \"stroke\": \"rgb(102, 111, 137)\", \"strokeDash\": [5, 5], \"strokeWidth\": 1}, \"encoding\": {\"tooltip\": {\"value\": \"0 [REF]\"}, \"x\": {\"value\": 400.0}, \"y\": {\"value\": 20.833333333333336}, \"y2\": {\"value\": 229.16666666666666}}}, {\"data\": {\"name\": \"data-3a1d065fd3aa317a7985f416b0b7774b\"}, \"mark\": {\"type\": \"text\", \"align\": \"center\", \"color\": \"rgb(102, 111, 137)\", \"font\": \"Roboto, Arial, sans-serif\", \"fontSize\": 12, \"fontWeight\": \"normal\", \"tooltip\": null}, \"encoding\": {\"text\": {\"field\": \"label\", \"type\": \"nominal\"}, \"x\": {\"field\": \"value\", \"scale\": {\"domain\": [-3, 3], \"range\": [40.0, 760.0]}, \"type\": \"quantitative\"}, \"y\": {\"value\": 17.5}}}, {\"layer\": [{\"mark\": {\"type\": \"text\", \"align\": \"left\", \"fill\": \"rgb(102, 111, 137)\", \"font\": \"Roboto, Arial, sans-serif\", \"fontSize\": 12, \"fontWeight\": \"normal\", \"tooltip\": null}, \"encoding\": {\"text\": {\"value\": \"Times Smaller\"}, \"x\": {\"value\": 40.0}, \"y\": {\"value\": 7.5}}}, {\"mark\": {\"type\": \"text\", \"align\": \"right\", \"fill\": \"rgb(102, 111, 137)\", \"font\": \"Roboto, Arial, sans-serif\", \"fontSize\": 12, \"fontWeight\": \"normal\", \"tooltip\": null}, \"encoding\": {\"text\": {\"value\": \"Times Larger\"}, \"x\": {\"value\": 760.0}, \"y\": {\"value\": 7.5}}}, {\"mark\": {\"type\": \"text\", \"align\": \"center\", \"fill\": \"rgb(102, 111, 137)\", \"font\": \"Roboto, Arial, sans-serif\", \"fontSize\": 12, \"fontWeight\": \"normal\", \"tooltip\": null}, \"encoding\": {\"text\": {\"value\": \"Equal\"}, \"x\": {\"value\": 400.0}, \"y\": {\"value\": 7.5}}}], \"data\": {\"name\": \"data-79dd248bdaa0ea02c535240e8ad022c8\"}}, {\"layer\": [{\"mark\": {\"type\": \"rule\", \"opacity\": 0.8, \"stroke\": \"rgb(211, 47, 47)\", \"strokeWidth\": 1.25, \"tooltip\": null}, \"encoding\": {\"x\": {\"field\": \"min\", \"scale\": {\"domain\": [-3, 3], \"range\": [40.0, 760.0]}, \"type\": \"quantitative\"}, \"y\": {\"value\": 25.0}, \"y2\": {\"value\": 225.0}}}, {\"mark\": {\"type\": \"rule\", \"opacity\": 0.8, \"stroke\": \"rgb(211, 47, 47)\", \"strokeWidth\": 1.25, \"tooltip\": null}, \"encoding\": {\"x\": {\"field\": \"max\", \"scale\": {\"domain\": [-3, 3], \"range\": [40.0, 760.0]}, \"type\": \"quantitative\"}, \"y\": {\"value\": 25.0}, \"y2\": {\"value\": 225.0}}}, {\"layer\": [{\"mark\": {\"type\": \"rect\", \"fill\": \"rgb(211, 47, 47)\", \"opacity\": 0.1, \"tooltip\": null}, \"encoding\": {\"x\": {\"field\": \"min\", \"scale\": {\"domain\": [-3, 3], \"range\": [40.0, 760.0]}, \"type\": \"quantitative\"}, \"x2\": {\"field\": \"lower_end\"}, \"y\": {\"value\": 25.0}, \"y2\": {\"value\": 225.0}}}, {\"mark\": {\"type\": \"rect\", \"fill\": \"rgb(211, 47, 47)\", \"opacity\": 0.1, \"tooltip\": null}, \"encoding\": {\"x\": {\"field\": \"max\", \"scale\": {\"domain\": [-3, 3], \"range\": [40.0, 760.0]}, \"type\": \"quantitative\"}, \"x2\": {\"field\": \"upper_end\"}, \"y\": {\"value\": 25.0}, \"y2\": {\"value\": 225.0}}}]}, {\"layer\": [{\"mark\": {\"type\": \"text\", \"align\": \"left\", \"baseline\": \"top\", \"fill\": \"rgb(211, 47, 47)\", \"font\": \"Roboto, Arial, sans-serif\", \"fontSize\": 12, \"fontWeight\": \"normal\", \"tooltip\": null}, \"encoding\": {\"text\": {\"value\": \"The metric value for any group should not be 1.25 (or more) times smaller or larger than that of the reference group 0.\"}, \"x\": {\"value\": 0}, \"y\": {\"value\": 233.33333333333334}}}], \"data\": {\"name\": \"data-79dd248bdaa0ea02c535240e8ad022c8\"}}], \"data\": {\"name\": \"data-6606b6a7ab47ab91739f2b90ebf15bf0\"}}, {\"layer\": [{\"data\": {\"name\": \"empty\"}, \"mark\": \"circle\"}, {\"data\": {\"name\": \"data-75c03b5e89d54d8f19cb73ab497296d4\"}, \"mark\": {\"type\": \"circle\", \"cursor\": \"pointer\", \"opacity\": 0.2}, \"encoding\": {\"color\": {\"condition\": {\"field\": \"attribute_value\", \"legend\": null, \"scale\": {\"domain\": [\"0\", \"1\"], \"range\": [\"rgb(102, 111, 137)\", \"rgb(76, 136, 238)\", \"rgb(254, 97, 0)\", \"rgb(220, 38, 127)\", \"rgb(255, 176, 0)\", \"rgb(150, 95, 230)\"]}, \"type\": \"nominal\", \"selection\": \"selector009\"}, \"value\": \"rgb(225, 226, 231)\"}, \"size\": {\"field\": \"group_size\", \"legend\": null, \"scale\": {\"domain\": [0, 15588.0], \"range\": [0, 7853.981633974483]}, \"type\": \"quantitative\"}, \"tooltip\": [{\"field\": \"attribute_value\", \"title\": \"Group\", \"type\": \"nominal\"}, {\"field\": \"tooltip_group_size\", \"title\": \"Group Size\", \"type\": \"nominal\"}, {\"field\": \"tooltip_disparity_explanation_fpr\", \"title\": \"Disparity\", \"type\": \"nominal\"}, {\"field\": \"fpr\", \"format\": \".2f\", \"title\": \"FPR\", \"type\": \"quantitative\"}], \"x\": {\"axis\": {\"domain\": false, \"gridColor\": \"rgb(225, 226, 231)\", \"labels\": false, \"ticks\": false, \"title\": null, \"values\": [1, 2, 3, -3, -2, -1]}, \"field\": \"fpr_disparity_scaled\", \"scale\": {\"domain\": [-3, 3], \"range\": [40.0, 760.0]}, \"type\": \"quantitative\"}, \"y\": {\"axis\": {\"domain\": false, \"grid\": false, \"labels\": false, \"ticks\": false, \"title\": null}, \"field\": \"metric_variable\", \"scale\": {\"domain\": [\"FPR\"], \"range\": [30, 225.0]}, \"type\": \"nominal\"}}, \"selection\": {\"selector011\": {\"type\": \"multi\", \"empty\": \"all\", \"fields\": [\"attribute_value\"]}}, \"transform\": [{\"calculate\": \"'FPR'\", \"as\": \"metric_variable\"}]}, {\"layer\": [{\"data\": {\"name\": \"empty\"}, \"mark\": \"point\"}, {\"data\": {\"name\": \"data-75c03b5e89d54d8f19cb73ab497296d4\"}, \"mark\": {\"type\": \"point\", \"cursor\": \"pointer\", \"filled\": true, \"size\": 60}, \"encoding\": {\"color\": {\"condition\": {\"field\": \"attribute_value\", \"legend\": null, \"scale\": {\"domain\": [\"0\", \"1\"], \"range\": [\"rgb(102, 111, 137)\", \"rgb(76, 136, 238)\", \"rgb(254, 97, 0)\", \"rgb(220, 38, 127)\", \"rgb(255, 176, 0)\", \"rgb(150, 95, 230)\"]}, \"type\": \"nominal\", \"selection\": \"selector009\"}, \"value\": \"rgb(225, 226, 231)\"}, \"shape\": {\"field\": \"attribute_value\", \"legend\": null, \"scale\": {\"domain\": [\"0\", \"1\"], \"range\": [\"cross\", \"circle\"]}, \"type\": \"nominal\"}, \"tooltip\": [{\"field\": \"attribute_value\", \"title\": \"Group\", \"type\": \"nominal\"}, {\"field\": \"tooltip_group_size\", \"title\": \"Group Size\", \"type\": \"nominal\"}, {\"field\": \"tooltip_disparity_explanation_fpr\", \"title\": \"Disparity\", \"type\": \"nominal\"}, {\"field\": \"fpr\", \"format\": \".2f\", \"title\": \"FPR\", \"type\": \"quantitative\"}], \"x\": {\"axis\": {\"domain\": false, \"gridColor\": \"rgb(225, 226, 231)\", \"labels\": false, \"ticks\": false, \"title\": null, \"values\": [1, 2, 3, -3, -2, -1]}, \"field\": \"fpr_disparity_scaled\", \"scale\": {\"domain\": [-3, 3], \"range\": [40.0, 760.0]}, \"type\": \"quantitative\"}, \"y\": {\"axis\": {\"domain\": false, \"grid\": false, \"labels\": false, \"ticks\": false, \"title\": null}, \"field\": \"metric_variable\", \"scale\": {\"domain\": [\"FPR\"], \"range\": [30, 225.0]}, \"type\": \"nominal\"}}, \"selection\": {\"selector010\": {\"type\": \"multi\", \"empty\": \"all\", \"fields\": [\"attribute_value\"]}}, \"transform\": [{\"calculate\": \"'FPR'\", \"as\": \"metric_variable\"}]}]}]}, {\"layer\": [{\"mark\": {\"type\": \"point\", \"cursor\": \"pointer\", \"filled\": true, \"opacity\": 1, \"size\": 40}, \"encoding\": {\"color\": {\"condition\": {\"field\": \"attribute_value\", \"legend\": null, \"scale\": {\"domain\": [\"0\", \"1\"], \"range\": [\"rgb(102, 111, 137)\", \"rgb(76, 136, 238)\", \"rgb(254, 97, 0)\", \"rgb(220, 38, 127)\", \"rgb(255, 176, 0)\", \"rgb(150, 95, 230)\"]}, \"type\": \"nominal\", \"selection\": \"selector009\"}, \"value\": \"rgb(225, 226, 231)\"}, \"shape\": {\"field\": \"attribute_value\", \"legend\": null, \"scale\": {\"domain\": [\"0\", \"1\"], \"range\": [\"cross\", \"circle\"]}, \"type\": \"nominal\"}, \"x\": {\"value\": 807.5682482323056}, \"y\": {\"axis\": {\"domain\": false, \"grid\": false, \"labels\": false, \"ticks\": false, \"title\": null}, \"field\": \"attribute_value\", \"scale\": {\"domain\": [\"0\", \"1\"], \"range\": [54, 86]}, \"type\": \"nominal\"}}, \"selection\": {\"selector009\": {\"type\": \"multi\", \"empty\": \"all\", \"fields\": [\"attribute_value\"]}}}, {\"mark\": {\"type\": \"text\", \"align\": \"left\", \"baseline\": \"middle\", \"cursor\": \"pointer\", \"font\": \"Roboto, Arial, sans-serif\", \"fontSize\": 12, \"fontWeight\": \"normal\"}, \"encoding\": {\"color\": {\"condition\": {\"field\": \"attribute_value\", \"legend\": null, \"scale\": {\"domain\": [\"0\", \"1\"], \"range\": [\"rgb(102, 111, 137)\", \"rgb(76, 136, 238)\", \"rgb(254, 97, 0)\", \"rgb(220, 38, 127)\", \"rgb(255, 176, 0)\", \"rgb(150, 95, 230)\"]}, \"type\": \"nominal\", \"selection\": \"selector009\"}, \"value\": \"rgb(225, 226, 231)\"}, \"text\": {\"field\": \"label\", \"type\": \"nominal\"}, \"x\": {\"value\": 818.1364964646111}, \"y\": {\"axis\": {\"domain\": false, \"grid\": false, \"labels\": false, \"ticks\": false, \"title\": null}, \"field\": \"attribute_value\", \"scale\": {\"domain\": [\"0\", \"1\"], \"range\": [54, 86]}, \"type\": \"nominal\"}}, \"selection\": {\"selector012\": {\"type\": \"multi\", \"empty\": \"all\", \"fields\": [\"attribute_value\"]}}}, {\"data\": {\"name\": \"data-79dd248bdaa0ea02c535240e8ad022c8\"}, \"mark\": {\"type\": \"text\", \"align\": \"left\", \"baseline\": \"top\", \"color\": \"rgb(25, 39, 78)\", \"font\": \"Roboto, Arial, sans-serif\", \"fontSize\": 12, \"fontWeight\": \"bold\"}, \"encoding\": {\"text\": {\"value\": \"(click to highlight)\"}, \"x\": {\"value\": 800}, \"y\": {\"value\": 34}}}, {\"data\": {\"name\": \"data-79dd248bdaa0ea02c535240e8ad022c8\"}, \"mark\": {\"type\": \"text\", \"align\": \"left\", \"baseline\": \"top\", \"color\": \"rgb(25, 39, 78)\", \"font\": \"Roboto, Arial, sans-serif\", \"fontSize\": 12, \"fontWeight\": \"bold\"}, \"encoding\": {\"text\": {\"value\": \"Groups\"}, \"x\": {\"value\": 800}, \"y\": {\"value\": 20}}}], \"data\": {\"name\": \"data-711e50c9c74ea5e50c1544827342332e\"}}], \"height\": 250, \"padding\": {\"top\": 15, \"bottom\": 7.0, \"left\": 15, \"right\": 15}, \"resolve\": {\"scale\": {\"size\": \"independent\", \"y\": \"independent\"}}, \"title\": \"Disparities on Customer_Age_Bin\", \"usermeta\": {\"embedOptions\": {\"scaleFactor\": 5, \"downloadFileName\": \"disparity_chart\"}}, \"width\": 800, \"$schema\": \"https://vega.github.io/schema/vega-lite/v4.17.0.json\", \"datasets\": {\"data-3cfa9b4d6f3fddf01801308f8cb5f93f\": [{\"metric\": \"FPR\", \"x\": -3, \"x2\": 3}], \"data-79dd248bdaa0ea02c535240e8ad022c8\": [{\"a\": 1, \"b\": 0}, {\"a\": 1, \"b\": 0}], \"data-3a1d065fd3aa317a7985f416b0b7774b\": [{\"value\": 1, \"label\": 2}, {\"value\": 2, \"label\": 3}, {\"value\": 3, \"label\": 4}, {\"value\": -3, \"label\": 4}, {\"value\": -2, \"label\": 3}, {\"value\": -1, \"label\": 2}, {\"value\": 0, \"label\": \"=\"}], \"data-6606b6a7ab47ab91739f2b90ebf15bf0\": [{\"min\": -0.25, \"max\": 0.25, \"lower_end\": -3, \"upper_end\": 3}], \"empty\": [{}], \"data-75c03b5e89d54d8f19cb73ab497296d4\": [{\"attribute_name\": \"customer_age_bin\", \"attribute_value\": \"0\", \"group_size\": 12990, \"total_entities\": 15000, \"fpr\": 0.03346072849231729, \"fpr_disparity\": 1.0, \"fpr_disparity_scaled\": 0.0, \"tooltip_group_size\": \"12,990 (86.60%)\", \"tooltip_disparity_explanation_fpr\": \"Reference group\"}, {\"attribute_name\": \"customer_age_bin\", \"attribute_value\": \"1\", \"group_size\": 2010, \"total_entities\": 15000, \"fpr\": 0.1079136690647482, \"fpr_disparity\": 3.2250842682497356, \"fpr_disparity_scaled\": 2.2250842682497356, \"tooltip_group_size\": \"2,010 (13.40%)\", \"tooltip_disparity_explanation_fpr\": \"3.23 times larger FPR than the reference group\"}], \"data-711e50c9c74ea5e50c1544827342332e\": [{\"attribute_value\": \"0\", \"label\": \"0 [REF]\"}, {\"attribute_value\": \"1\", \"label\": \"1\"}]}}, {\"mode\": \"vega-lite\"});\n",
              "</script>"
            ],
            "text/plain": [
              "alt.LayerChart(...)"
            ]
          },
          "metadata": {},
          "execution_count": 38
        }
      ],
      "source": [
        "audit.disparity_plot(fairness_metric, fairness_column)"
      ]
    },
    {
      "cell_type": "code",
      "execution_count": 39,
      "metadata": {
        "colab": {
          "base_uri": "https://localhost:8080/",
          "height": 112
        },
        "id": "Gl4USnW9Ac-s",
        "outputId": "a1379adf-7b3a-48d5-9959-98374552e04a"
      },
      "outputs": [
        {
          "output_type": "execute_result",
          "data": {
            "text/plain": [
              "     attribute_name attribute_value       tpr       fpr  accuracy  precision\n",
              "0  customer_age_bin               0  0.431953  0.033461  0.959584   0.145418\n",
              "1  customer_age_bin               1  0.593750  0.107914  0.882587   0.153226"
            ],
            "text/html": [
              "\n",
              "  <div id=\"df-1d28503c-e343-482e-b8d3-68c52221094b\" class=\"colab-df-container\">\n",
              "    <div>\n",
              "<style scoped>\n",
              "    .dataframe tbody tr th:only-of-type {\n",
              "        vertical-align: middle;\n",
              "    }\n",
              "\n",
              "    .dataframe tbody tr th {\n",
              "        vertical-align: top;\n",
              "    }\n",
              "\n",
              "    .dataframe thead th {\n",
              "        text-align: right;\n",
              "    }\n",
              "</style>\n",
              "<table border=\"1\" class=\"dataframe\">\n",
              "  <thead>\n",
              "    <tr style=\"text-align: right;\">\n",
              "      <th></th>\n",
              "      <th>attribute_name</th>\n",
              "      <th>attribute_value</th>\n",
              "      <th>tpr</th>\n",
              "      <th>fpr</th>\n",
              "      <th>accuracy</th>\n",
              "      <th>precision</th>\n",
              "    </tr>\n",
              "  </thead>\n",
              "  <tbody>\n",
              "    <tr>\n",
              "      <th>0</th>\n",
              "      <td>customer_age_bin</td>\n",
              "      <td>0</td>\n",
              "      <td>0.431953</td>\n",
              "      <td>0.033461</td>\n",
              "      <td>0.959584</td>\n",
              "      <td>0.145418</td>\n",
              "    </tr>\n",
              "    <tr>\n",
              "      <th>1</th>\n",
              "      <td>customer_age_bin</td>\n",
              "      <td>1</td>\n",
              "      <td>0.593750</td>\n",
              "      <td>0.107914</td>\n",
              "      <td>0.882587</td>\n",
              "      <td>0.153226</td>\n",
              "    </tr>\n",
              "  </tbody>\n",
              "</table>\n",
              "</div>\n",
              "    <div class=\"colab-df-buttons\">\n",
              "\n",
              "  <div class=\"colab-df-container\">\n",
              "    <button class=\"colab-df-convert\" onclick=\"convertToInteractive('df-1d28503c-e343-482e-b8d3-68c52221094b')\"\n",
              "            title=\"Convert this dataframe to an interactive table.\"\n",
              "            style=\"display:none;\">\n",
              "\n",
              "  <svg xmlns=\"http://www.w3.org/2000/svg\" height=\"24px\" viewBox=\"0 -960 960 960\">\n",
              "    <path d=\"M120-120v-720h720v720H120Zm60-500h600v-160H180v160Zm220 220h160v-160H400v160Zm0 220h160v-160H400v160ZM180-400h160v-160H180v160Zm440 0h160v-160H620v160ZM180-180h160v-160H180v160Zm440 0h160v-160H620v160Z\"/>\n",
              "  </svg>\n",
              "    </button>\n",
              "\n",
              "  <style>\n",
              "    .colab-df-container {\n",
              "      display:flex;\n",
              "      gap: 12px;\n",
              "    }\n",
              "\n",
              "    .colab-df-convert {\n",
              "      background-color: #E8F0FE;\n",
              "      border: none;\n",
              "      border-radius: 50%;\n",
              "      cursor: pointer;\n",
              "      display: none;\n",
              "      fill: #1967D2;\n",
              "      height: 32px;\n",
              "      padding: 0 0 0 0;\n",
              "      width: 32px;\n",
              "    }\n",
              "\n",
              "    .colab-df-convert:hover {\n",
              "      background-color: #E2EBFA;\n",
              "      box-shadow: 0px 1px 2px rgba(60, 64, 67, 0.3), 0px 1px 3px 1px rgba(60, 64, 67, 0.15);\n",
              "      fill: #174EA6;\n",
              "    }\n",
              "\n",
              "    .colab-df-buttons div {\n",
              "      margin-bottom: 4px;\n",
              "    }\n",
              "\n",
              "    [theme=dark] .colab-df-convert {\n",
              "      background-color: #3B4455;\n",
              "      fill: #D2E3FC;\n",
              "    }\n",
              "\n",
              "    [theme=dark] .colab-df-convert:hover {\n",
              "      background-color: #434B5C;\n",
              "      box-shadow: 0px 1px 3px 1px rgba(0, 0, 0, 0.15);\n",
              "      filter: drop-shadow(0px 1px 2px rgba(0, 0, 0, 0.3));\n",
              "      fill: #FFFFFF;\n",
              "    }\n",
              "  </style>\n",
              "\n",
              "    <script>\n",
              "      const buttonEl =\n",
              "        document.querySelector('#df-1d28503c-e343-482e-b8d3-68c52221094b button.colab-df-convert');\n",
              "      buttonEl.style.display =\n",
              "        google.colab.kernel.accessAllowed ? 'block' : 'none';\n",
              "\n",
              "      async function convertToInteractive(key) {\n",
              "        const element = document.querySelector('#df-1d28503c-e343-482e-b8d3-68c52221094b');\n",
              "        const dataTable =\n",
              "          await google.colab.kernel.invokeFunction('convertToInteractive',\n",
              "                                                    [key], {});\n",
              "        if (!dataTable) return;\n",
              "\n",
              "        const docLinkHtml = 'Like what you see? Visit the ' +\n",
              "          '<a target=\"_blank\" href=https://colab.research.google.com/notebooks/data_table.ipynb>data table notebook</a>'\n",
              "          + ' to learn more about interactive tables.';\n",
              "        element.innerHTML = '';\n",
              "        dataTable['output_type'] = 'display_data';\n",
              "        await google.colab.output.renderOutput(dataTable, element);\n",
              "        const docLink = document.createElement('div');\n",
              "        docLink.innerHTML = docLinkHtml;\n",
              "        element.appendChild(docLink);\n",
              "      }\n",
              "    </script>\n",
              "  </div>\n",
              "\n",
              "\n",
              "<div id=\"df-f4f00b27-0ea9-40e0-9ca8-506e2c8d01f3\">\n",
              "  <button class=\"colab-df-quickchart\" onclick=\"quickchart('df-f4f00b27-0ea9-40e0-9ca8-506e2c8d01f3')\"\n",
              "            title=\"Suggest charts\"\n",
              "            style=\"display:none;\">\n",
              "\n",
              "<svg xmlns=\"http://www.w3.org/2000/svg\" height=\"24px\"viewBox=\"0 0 24 24\"\n",
              "     width=\"24px\">\n",
              "    <g>\n",
              "        <path d=\"M19 3H5c-1.1 0-2 .9-2 2v14c0 1.1.9 2 2 2h14c1.1 0 2-.9 2-2V5c0-1.1-.9-2-2-2zM9 17H7v-7h2v7zm4 0h-2V7h2v10zm4 0h-2v-4h2v4z\"/>\n",
              "    </g>\n",
              "</svg>\n",
              "  </button>\n",
              "\n",
              "<style>\n",
              "  .colab-df-quickchart {\n",
              "      --bg-color: #E8F0FE;\n",
              "      --fill-color: #1967D2;\n",
              "      --hover-bg-color: #E2EBFA;\n",
              "      --hover-fill-color: #174EA6;\n",
              "      --disabled-fill-color: #AAA;\n",
              "      --disabled-bg-color: #DDD;\n",
              "  }\n",
              "\n",
              "  [theme=dark] .colab-df-quickchart {\n",
              "      --bg-color: #3B4455;\n",
              "      --fill-color: #D2E3FC;\n",
              "      --hover-bg-color: #434B5C;\n",
              "      --hover-fill-color: #FFFFFF;\n",
              "      --disabled-bg-color: #3B4455;\n",
              "      --disabled-fill-color: #666;\n",
              "  }\n",
              "\n",
              "  .colab-df-quickchart {\n",
              "    background-color: var(--bg-color);\n",
              "    border: none;\n",
              "    border-radius: 50%;\n",
              "    cursor: pointer;\n",
              "    display: none;\n",
              "    fill: var(--fill-color);\n",
              "    height: 32px;\n",
              "    padding: 0;\n",
              "    width: 32px;\n",
              "  }\n",
              "\n",
              "  .colab-df-quickchart:hover {\n",
              "    background-color: var(--hover-bg-color);\n",
              "    box-shadow: 0 1px 2px rgba(60, 64, 67, 0.3), 0 1px 3px 1px rgba(60, 64, 67, 0.15);\n",
              "    fill: var(--button-hover-fill-color);\n",
              "  }\n",
              "\n",
              "  .colab-df-quickchart-complete:disabled,\n",
              "  .colab-df-quickchart-complete:disabled:hover {\n",
              "    background-color: var(--disabled-bg-color);\n",
              "    fill: var(--disabled-fill-color);\n",
              "    box-shadow: none;\n",
              "  }\n",
              "\n",
              "  .colab-df-spinner {\n",
              "    border: 2px solid var(--fill-color);\n",
              "    border-color: transparent;\n",
              "    border-bottom-color: var(--fill-color);\n",
              "    animation:\n",
              "      spin 1s steps(1) infinite;\n",
              "  }\n",
              "\n",
              "  @keyframes spin {\n",
              "    0% {\n",
              "      border-color: transparent;\n",
              "      border-bottom-color: var(--fill-color);\n",
              "      border-left-color: var(--fill-color);\n",
              "    }\n",
              "    20% {\n",
              "      border-color: transparent;\n",
              "      border-left-color: var(--fill-color);\n",
              "      border-top-color: var(--fill-color);\n",
              "    }\n",
              "    30% {\n",
              "      border-color: transparent;\n",
              "      border-left-color: var(--fill-color);\n",
              "      border-top-color: var(--fill-color);\n",
              "      border-right-color: var(--fill-color);\n",
              "    }\n",
              "    40% {\n",
              "      border-color: transparent;\n",
              "      border-right-color: var(--fill-color);\n",
              "      border-top-color: var(--fill-color);\n",
              "    }\n",
              "    60% {\n",
              "      border-color: transparent;\n",
              "      border-right-color: var(--fill-color);\n",
              "    }\n",
              "    80% {\n",
              "      border-color: transparent;\n",
              "      border-right-color: var(--fill-color);\n",
              "      border-bottom-color: var(--fill-color);\n",
              "    }\n",
              "    90% {\n",
              "      border-color: transparent;\n",
              "      border-bottom-color: var(--fill-color);\n",
              "    }\n",
              "  }\n",
              "</style>\n",
              "\n",
              "  <script>\n",
              "    async function quickchart(key) {\n",
              "      const quickchartButtonEl =\n",
              "        document.querySelector('#' + key + ' button');\n",
              "      quickchartButtonEl.disabled = true;  // To prevent multiple clicks.\n",
              "      quickchartButtonEl.classList.add('colab-df-spinner');\n",
              "      try {\n",
              "        const charts = await google.colab.kernel.invokeFunction(\n",
              "            'suggestCharts', [key], {});\n",
              "      } catch (error) {\n",
              "        console.error('Error during call to suggestCharts:', error);\n",
              "      }\n",
              "      quickchartButtonEl.classList.remove('colab-df-spinner');\n",
              "      quickchartButtonEl.classList.add('colab-df-quickchart-complete');\n",
              "    }\n",
              "    (() => {\n",
              "      let quickchartButtonEl =\n",
              "        document.querySelector('#df-f4f00b27-0ea9-40e0-9ca8-506e2c8d01f3 button');\n",
              "      quickchartButtonEl.style.display =\n",
              "        google.colab.kernel.accessAllowed ? 'block' : 'none';\n",
              "    })();\n",
              "  </script>\n",
              "</div>\n",
              "\n",
              "    </div>\n",
              "  </div>\n"
            ],
            "application/vnd.google.colaboratory.intrinsic+json": {
              "type": "dataframe",
              "summary": "{\n  \"name\": \"audit\",\n  \"rows\": 2,\n  \"fields\": [\n    {\n      \"column\": \"attribute_name\",\n      \"properties\": {\n        \"dtype\": \"string\",\n        \"num_unique_values\": 1,\n        \"samples\": [\n          \"customer_age_bin\"\n        ],\n        \"semantic_type\": \"\",\n        \"description\": \"\"\n      }\n    },\n    {\n      \"column\": \"attribute_value\",\n      \"properties\": {\n        \"dtype\": \"string\",\n        \"num_unique_values\": 2,\n        \"samples\": [\n          \"1\"\n        ],\n        \"semantic_type\": \"\",\n        \"description\": \"\"\n      }\n    },\n    {\n      \"column\": \"tpr\",\n      \"properties\": {\n        \"dtype\": \"number\",\n        \"std\": 0.1144079943672761,\n        \"min\": 0.4319526627218935,\n        \"max\": 0.59375,\n        \"num_unique_values\": 2,\n        \"samples\": [\n          0.59375\n        ],\n        \"semantic_type\": \"\",\n        \"description\": \"\"\n      }\n    },\n    {\n      \"column\": \"fpr\",\n      \"properties\": {\n        \"dtype\": \"number\",\n        \"std\": 0.052646179158044926,\n        \"min\": 0.03346072849231729,\n        \"max\": 0.1079136690647482,\n        \"num_unique_values\": 2,\n        \"samples\": [\n          0.1079136690647482\n        ],\n        \"semantic_type\": \"\",\n        \"description\": \"\"\n      }\n    },\n    {\n      \"column\": \"accuracy\",\n      \"properties\": {\n        \"dtype\": \"number\",\n        \"std\": 0.05444526412700247,\n        \"min\": 0.882587064676617,\n        \"max\": 0.9595842956120092,\n        \"num_unique_values\": 2,\n        \"samples\": [\n          0.882587064676617\n        ],\n        \"semantic_type\": \"\",\n        \"description\": \"\"\n      }\n    },\n    {\n      \"column\": \"precision\",\n      \"properties\": {\n        \"dtype\": \"number\",\n        \"std\": 0.00552072188113131,\n        \"min\": 0.1454183266932271,\n        \"max\": 0.1532258064516129,\n        \"num_unique_values\": 2,\n        \"samples\": [\n          0.1532258064516129\n        ],\n        \"semantic_type\": \"\",\n        \"description\": \"\"\n      }\n    }\n  ]\n}"
            }
          },
          "metadata": {},
          "execution_count": 39
        }
      ],
      "source": [
        "audit.metrics_df[[\"attribute_name\", \"attribute_value\", \"tpr\", \"fpr\", \"accuracy\", \"precision\"]]"
      ]
    },
    {
      "cell_type": "markdown",
      "metadata": {
        "id": "D2bNI3aKCrQg"
      },
      "source": [
        "---\n",
        "## Correcting the predictions\n",
        "\n",
        "To correct the predictions, we will use a method available in Aequitas Flow.\n",
        "\n",
        "This method will calculate different thresholds to equalize a target metric for all the groups (in this case the fairness metric, FPR)."
      ]
    },
    {
      "cell_type": "code",
      "execution_count": 40,
      "metadata": {
        "colab": {
          "base_uri": "https://localhost:8080/"
        },
        "id": "LPyuJ3cH7Dak",
        "outputId": "b3c1f9f5-0cd6-45cc-f022-8c51a020bf73"
      },
      "outputs": [
        {
          "output_type": "stream",
          "name": "stdout",
          "text": [
            "[INFO] 2024-08-23 14:30:19 methods.postprocessing.Threshold - Instantiating postprocessing Threshold.\n",
            "[INFO] 2024-08-23 14:30:19 methods.postprocessing.Threshold - Instantiating postprocessing Threshold.\n"
          ]
        },
        {
          "output_type": "stream",
          "name": "stderr",
          "text": [
            "/usr/local/lib/python3.10/dist-packages/aequitas/flow/methods/postprocessing/balanced_group_threshold.py:101: FutureWarning: Series.fillna with 'method' is deprecated and will raise in a future version. Use obj.ffill() or obj.bfill() instead.\n",
            "  group_df[\"value\"].fillna(method=\"ffill\", inplace=True)\n",
            "/usr/local/lib/python3.10/dist-packages/aequitas/flow/methods/postprocessing/balanced_group_threshold.py:101: FutureWarning: Series.fillna with 'method' is deprecated and will raise in a future version. Use obj.ffill() or obj.bfill() instead.\n",
            "  group_df[\"value\"].fillna(method=\"ffill\", inplace=True)\n"
          ]
        }
      ],
      "source": [
        "from aequitas.flow.methods.postprocessing import BalancedGroupThreshold\n",
        "\n",
        "threshold = BalancedGroupThreshold(threshold_type=\"top_pct\", threshold_value=0.05, fairness_metric=\"fpr\")\n",
        "\n",
        "threshold.fit(validation.X, preds_val, validation.y, validation.s)"
      ]
    },
    {
      "cell_type": "code",
      "execution_count": 41,
      "metadata": {
        "colab": {
          "base_uri": "https://localhost:8080/"
        },
        "id": "-zjd5v-C9iII",
        "outputId": "43b3bbfb-7648-4a60-f1af-4bbc45072016"
      },
      "outputs": [
        {
          "output_type": "stream",
          "name": "stdout",
          "text": [
            "[INFO] 2024-08-23 14:30:19 methods.postprocessing.Threshold - Transforming predictions.\n",
            "[INFO] 2024-08-23 14:30:19 methods.postprocessing.Threshold - Finished transforming predictions.\n",
            "[INFO] 2024-08-23 14:30:19 methods.postprocessing.Threshold - Transforming predictions.\n",
            "[INFO] 2024-08-23 14:30:19 methods.postprocessing.Threshold - Finished transforming predictions.\n"
          ]
        }
      ],
      "source": [
        "corrected_bin_preds_test = threshold.transform(test.X, preds_test, test.s)"
      ]
    },
    {
      "cell_type": "code",
      "execution_count": 42,
      "metadata": {
        "id": "1oCrnkkuuVEr"
      },
      "outputs": [],
      "source": [
        "audit_df = test.s.astype(str).to_frame().copy()\n",
        "audit_df[\"score\"] = corrected_bin_preds_test\n",
        "audit_df[\"label\"] = test.y"
      ]
    },
    {
      "cell_type": "markdown",
      "metadata": {
        "id": "TaGxbM_u_kOT"
      },
      "source": [
        "Let's see the impact of this correction in the global recall of the model, with the updated binarized predictions:"
      ]
    },
    {
      "cell_type": "code",
      "execution_count": 43,
      "metadata": {
        "colab": {
          "base_uri": "https://localhost:8080/",
          "height": 115
        },
        "id": "YAs_u5rXuPLz",
        "outputId": "6c0751fe-abfd-44d2-9450-61883f50df5c"
      },
      "outputs": [
        {
          "output_type": "execute_result",
          "data": {
            "text/plain": [
              "0    0.502146\n",
              "Name: tpr, dtype: float64"
            ],
            "text/html": [
              "<div>\n",
              "<style scoped>\n",
              "    .dataframe tbody tr th:only-of-type {\n",
              "        vertical-align: middle;\n",
              "    }\n",
              "\n",
              "    .dataframe tbody tr th {\n",
              "        vertical-align: top;\n",
              "    }\n",
              "\n",
              "    .dataframe thead th {\n",
              "        text-align: right;\n",
              "    }\n",
              "</style>\n",
              "<table border=\"1\" class=\"dataframe\">\n",
              "  <thead>\n",
              "    <tr style=\"text-align: right;\">\n",
              "      <th></th>\n",
              "      <th>tpr</th>\n",
              "    </tr>\n",
              "  </thead>\n",
              "  <tbody>\n",
              "    <tr>\n",
              "      <th>0</th>\n",
              "      <td>0.502146</td>\n",
              "    </tr>\n",
              "  </tbody>\n",
              "</table>\n",
              "</div><br><label><b>dtype:</b> float64</label>"
            ]
          },
          "metadata": {},
          "execution_count": 43
        }
      ],
      "source": [
        "from aequitas.audit import Audit\n",
        "\n",
        "audit_fixed = Audit(audit_df, reference_groups={fairness_column: reference_group})\n",
        "audit_fixed.performance()[performance_metric]"
      ]
    },
    {
      "cell_type": "markdown",
      "metadata": {
        "id": "-WYKciu6_x6y"
      },
      "source": [
        "When compared to the previous value of recall, there is no drop in performance.\n",
        "\n",
        "Let's observe the fairness audit:"
      ]
    },
    {
      "cell_type": "code",
      "execution_count": 44,
      "metadata": {
        "colab": {
          "base_uri": "https://localhost:8080/",
          "height": 613
        },
        "id": "YoWIUAhm-WXU",
        "outputId": "d8867705-db58-4ab0-bbef-cddb00d3037f"
      },
      "outputs": [
        {
          "output_type": "stream",
          "name": "stderr",
          "text": [
            "/usr/local/lib/python3.10/dist-packages/aequitas/plot/summary_chart.py:373: FutureWarning: The provided callable <built-in function min> is currently using SeriesGroupBy.min. In a future version of pandas, the provided callable will be used directly. To keep current behavior pass the string \"min\" instead.\n",
            "  .agg(\n",
            "/usr/local/lib/python3.10/dist-packages/aequitas/plot/summary_chart.py:373: FutureWarning: The provided callable <built-in function min> is currently using SeriesGroupBy.min. In a future version of pandas, the provided callable will be used directly. To keep current behavior pass the string \"min\" instead.\n",
            "  .agg(\n",
            "/usr/local/lib/python3.10/dist-packages/aequitas/plot/summary_chart.py:373: FutureWarning: The provided callable <built-in function sum> is currently using SeriesGroupBy.sum. In a future version of pandas, the provided callable will be used directly. To keep current behavior pass the string \"sum\" instead.\n",
            "  .agg(\n",
            "/usr/local/lib/python3.10/dist-packages/altair/utils/core.py:384: FutureWarning: the convert_dtype parameter is deprecated and will be removed in a future version.  Do ``ser.astype(object).apply()`` instead if you want ``convert_dtype=False``.\n",
            "  col = df[col_name].apply(to_list_if_array, convert_dtype=False)\n",
            "/usr/local/lib/python3.10/dist-packages/altair/utils/core.py:384: FutureWarning: the convert_dtype parameter is deprecated and will be removed in a future version.  Do ``ser.astype(object).apply()`` instead if you want ``convert_dtype=False``.\n",
            "  col = df[col_name].apply(to_list_if_array, convert_dtype=False)\n",
            "/usr/local/lib/python3.10/dist-packages/altair/utils/core.py:384: FutureWarning: the convert_dtype parameter is deprecated and will be removed in a future version.  Do ``ser.astype(object).apply()`` instead if you want ``convert_dtype=False``.\n",
            "  col = df[col_name].apply(to_list_if_array, convert_dtype=False)\n",
            "/usr/local/lib/python3.10/dist-packages/altair/utils/core.py:384: FutureWarning: the convert_dtype parameter is deprecated and will be removed in a future version.  Do ``ser.astype(object).apply()`` instead if you want ``convert_dtype=False``.\n",
            "  col = df[col_name].apply(to_list_if_array, convert_dtype=False)\n",
            "/usr/local/lib/python3.10/dist-packages/altair/utils/core.py:384: FutureWarning: the convert_dtype parameter is deprecated and will be removed in a future version.  Do ``ser.astype(object).apply()`` instead if you want ``convert_dtype=False``.\n",
            "  col = df[col_name].apply(to_list_if_array, convert_dtype=False)\n",
            "/usr/local/lib/python3.10/dist-packages/altair/utils/core.py:384: FutureWarning: the convert_dtype parameter is deprecated and will be removed in a future version.  Do ``ser.astype(object).apply()`` instead if you want ``convert_dtype=False``.\n",
            "  col = df[col_name].apply(to_list_if_array, convert_dtype=False)\n",
            "/usr/local/lib/python3.10/dist-packages/altair/utils/core.py:384: FutureWarning: the convert_dtype parameter is deprecated and will be removed in a future version.  Do ``ser.astype(object).apply()`` instead if you want ``convert_dtype=False``.\n",
            "  col = df[col_name].apply(to_list_if_array, convert_dtype=False)\n"
          ]
        },
        {
          "output_type": "execute_result",
          "data": {
            "text/html": [
              "\n",
              "<div id=\"altair-viz-8587c4d70b23449b8bf4216ce7c56dc1\"></div>\n",
              "<script type=\"text/javascript\">\n",
              "  var VEGA_DEBUG = (typeof VEGA_DEBUG == \"undefined\") ? {} : VEGA_DEBUG;\n",
              "  (function(spec, embedOpt){\n",
              "    let outputDiv = document.currentScript.previousElementSibling;\n",
              "    if (outputDiv.id !== \"altair-viz-8587c4d70b23449b8bf4216ce7c56dc1\") {\n",
              "      outputDiv = document.getElementById(\"altair-viz-8587c4d70b23449b8bf4216ce7c56dc1\");\n",
              "    }\n",
              "    const paths = {\n",
              "      \"vega\": \"https://cdn.jsdelivr.net/npm//vega@5?noext\",\n",
              "      \"vega-lib\": \"https://cdn.jsdelivr.net/npm//vega-lib?noext\",\n",
              "      \"vega-lite\": \"https://cdn.jsdelivr.net/npm//vega-lite@4.17.0?noext\",\n",
              "      \"vega-embed\": \"https://cdn.jsdelivr.net/npm//vega-embed@6?noext\",\n",
              "    };\n",
              "\n",
              "    function maybeLoadScript(lib, version) {\n",
              "      var key = `${lib.replace(\"-\", \"\")}_version`;\n",
              "      return (VEGA_DEBUG[key] == version) ?\n",
              "        Promise.resolve(paths[lib]) :\n",
              "        new Promise(function(resolve, reject) {\n",
              "          var s = document.createElement('script');\n",
              "          document.getElementsByTagName(\"head\")[0].appendChild(s);\n",
              "          s.async = true;\n",
              "          s.onload = () => {\n",
              "            VEGA_DEBUG[key] = version;\n",
              "            return resolve(paths[lib]);\n",
              "          };\n",
              "          s.onerror = () => reject(`Error loading script: ${paths[lib]}`);\n",
              "          s.src = paths[lib];\n",
              "        });\n",
              "    }\n",
              "\n",
              "    function showError(err) {\n",
              "      outputDiv.innerHTML = `<div class=\"error\" style=\"color:red;\">${err}</div>`;\n",
              "      throw err;\n",
              "    }\n",
              "\n",
              "    function displayChart(vegaEmbed) {\n",
              "      vegaEmbed(outputDiv, spec, embedOpt)\n",
              "        .catch(err => showError(`Javascript Error: ${err.message}<br>This usually means there's a typo in your chart specification. See the javascript console for the full traceback.`));\n",
              "    }\n",
              "\n",
              "    if(typeof define === \"function\" && define.amd) {\n",
              "      requirejs.config({paths});\n",
              "      require([\"vega-embed\"], displayChart, err => showError(`Error loading script: ${err.message}`));\n",
              "    } else {\n",
              "      maybeLoadScript(\"vega\", \"5\")\n",
              "        .then(() => maybeLoadScript(\"vega-lite\", \"4.17.0\"))\n",
              "        .then(() => maybeLoadScript(\"vega-embed\", \"6\"))\n",
              "        .catch(showError)\n",
              "        .then(() => displayChart(vegaEmbed));\n",
              "    }\n",
              "  })({\"config\": {\"view\": {\"continuousWidth\": 400, \"continuousHeight\": 300, \"strokeWidth\": 0}, \"legend\": {\"labelColor\": \"rgb(102, 111, 137)\", \"labelFont\": \"Roboto, Arial, sans-serif\", \"labelFontSize\": 12, \"rowPadding\": 4, \"symbolSize\": 40, \"titleBaseline\": \"top\", \"titleColor\": \"rgb(25, 39, 78)\", \"titleFont\": \"Roboto, Arial, sans-serif\", \"titleFontSize\": 12, \"titleFontWeight\": \"bold\", \"titlePadding\": 8}}, \"vconcat\": [{\"hconcat\": [{\"vconcat\": [{\"mark\": {\"type\": \"text\", \"align\": \"center\", \"baseline\": \"middle\", \"color\": \"rgb(25, 39, 78)\", \"font\": \"Roboto, Arial, sans-serif\", \"fontWeight\": \"bold\", \"size\": 14}, \"encoding\": {\"text\": {\"value\": \"\"}}, \"height\": 19.5, \"width\": 32.0}, {\"layer\": [{\"mark\": {\"type\": \"text\", \"align\": \"center\", \"baseline\": \"middle\", \"color\": \"rgb(25, 39, 78)\", \"font\": \"Roboto, Arial, sans-serif\", \"fontWeight\": \"bold\", \"size\": 14}, \"encoding\": {\"text\": {\"value\": \"FPR\"}, \"y\": {\"axis\": {\"domain\": false, \"grid\": false, \"labels\": false, \"ticks\": false, \"title\": null}, \"field\": \"y_position\", \"scale\": {\"domain\": [3, 1]}, \"type\": \"quantitative\"}}, \"transform\": [{\"calculate\": \"1.2\", \"as\": \"y_position\"}]}, {\"mark\": {\"type\": \"text\", \"align\": \"center\", \"baseline\": \"middle\", \"color\": \"rgb(102, 111, 137)\", \"font\": \"Roboto, Arial, sans-serif\", \"size\": 12}, \"encoding\": {\"text\": {\"value\": \"Groups\"}, \"y\": {\"axis\": {\"domain\": false, \"grid\": false, \"labels\": false, \"ticks\": false, \"title\": null}, \"field\": \"y_position\", \"scale\": {\"domain\": [3, 1]}, \"type\": \"quantitative\"}}, \"transform\": [{\"calculate\": \"2\", \"as\": \"y_position\"}]}, {\"mark\": {\"type\": \"text\", \"align\": \"center\", \"baseline\": \"middle\", \"color\": \"rgb(102, 111, 137)\", \"font\": \"Roboto, Arial, sans-serif\", \"size\": 12}, \"encoding\": {\"text\": {\"value\": \"% Pop.\"}, \"y\": {\"axis\": {\"domain\": false, \"grid\": false, \"labels\": false, \"ticks\": false, \"title\": null}, \"field\": \"y_position\", \"scale\": {\"domain\": [3, 1]}, \"type\": \"quantitative\"}}, \"transform\": [{\"calculate\": \"2.7\", \"as\": \"y_position\"}]}], \"height\": 84.5, \"width\": 32.0}], \"bounds\": \"flush\", \"data\": {\"name\": \"data-79dd248bdaa0ea02c535240e8ad022c8\"}, \"spacing\": 26.0}, {\"hconcat\": [{\"vconcat\": [{\"data\": {\"name\": \"data-79dd248bdaa0ea02c535240e8ad022c8\"}, \"mark\": {\"type\": \"text\", \"align\": \"center\", \"baseline\": \"middle\", \"color\": \"rgb(25, 39, 78)\", \"font\": \"Roboto, Arial, sans-serif\", \"fontWeight\": \"bold\", \"size\": 14}, \"encoding\": {\"text\": {\"value\": \"Customer_Age_Bin\"}}, \"height\": 19.5, \"width\": 240.0}, {\"layer\": [{\"data\": {\"name\": \"data-126d4ae515fac080ab56453e43289c66\"}, \"mark\": {\"type\": \"text\", \"align\": \"center\", \"baseline\": \"middle\", \"font\": \"Roboto, Arial, sans-serif\", \"fontWeight\": \"bold\", \"size\": 20}, \"encoding\": {\"color\": {\"field\": \"parity_result\", \"legend\": {\"offset\": 0, \"padding\": 20, \"title\": \"Parity Test\"}, \"scale\": {\"domain\": [\"Reference\", \"Pass\", \"Fail\"], \"range\": [\"rgb(102, 111, 137)\", \"rgb(0, 163, 158)\", \"rgb(211, 47, 47)\"]}, \"type\": \"ordinal\"}, \"text\": {\"value\": \"PASS\"}, \"y\": {\"axis\": {\"domain\": false, \"grid\": false, \"labels\": false, \"ticks\": false, \"title\": null}, \"field\": \"y_position\", \"scale\": {\"domain\": [3, 1]}, \"type\": \"quantitative\"}}, \"transform\": [{\"calculate\": \"1\", \"as\": \"y_position\"}]}, {\"data\": {\"name\": \"data-87e19190d7e3a4f7eba06ad8eb87b4fa\"}, \"mark\": {\"type\": \"bar\", \"size\": 6, \"stroke\": \"white\"}, \"encoding\": {\"color\": {\"field\": \"fpr_parity_result\", \"legend\": null, \"scale\": {\"domain\": [\"Reference\", \"Pass\", \"Fail\"], \"range\": [\"rgb(102, 111, 137)\", \"rgb(0, 163, 158)\", \"rgb(211, 47, 47)\"]}, \"type\": \"ordinal\"}, \"tooltip\": [{\"field\": \"fpr_parity_result\", \"title\": \"Parity\", \"type\": \"nominal\"}, {\"field\": \"tooltip_group_size\", \"title\": \"Size\", \"type\": \"nominal\"}, {\"field\": \"tooltip_groups_name_size\", \"title\": \"Groups\", \"type\": \"nominal\"}], \"x\": {\"aggregate\": \"sum\", \"axis\": {\"domain\": false, \"grid\": false, \"labels\": false, \"ticks\": false, \"title\": null}, \"field\": \"group_size\", \"stack\": \"normalize\", \"type\": \"quantitative\"}, \"y\": {\"axis\": {\"domain\": false, \"grid\": false, \"labels\": false, \"ticks\": false, \"title\": null}, \"field\": \"y_position\", \"scale\": {\"domain\": [3, 1]}, \"type\": \"quantitative\"}}, \"transform\": [{\"calculate\": \"2.8\", \"as\": \"y_position\"}]}, {\"data\": {\"name\": \"data-88d9cb0c1583997f004517bb838cc82a\"}, \"mark\": {\"type\": \"circle\", \"opacity\": 1}, \"encoding\": {\"color\": {\"field\": \"fpr_parity_result\", \"legend\": null, \"scale\": {\"domain\": [\"Reference\", \"Pass\", \"Fail\"], \"range\": [\"rgb(102, 111, 137)\", \"rgb(0, 163, 158)\", \"rgb(211, 47, 47)\"]}, \"type\": \"ordinal\"}, \"size\": {\"value\": 300}, \"tooltip\": [{\"field\": \"attribute_value\", \"title\": \"Group\", \"type\": \"nominal\"}, {\"field\": \"tooltip_group_size\", \"title\": \"Group Size\", \"type\": \"nominal\"}, {\"field\": \"tooltip_parity_test_explanation_fpr\", \"title\": \"Parity Test\", \"type\": \"nominal\"}, {\"field\": \"tooltip_disparity_explanation_fpr\", \"title\": \"Disparity\", \"type\": \"nominal\"}, {\"field\": \"fpr\", \"format\": \".2f\", \"title\": \"FPR\", \"type\": \"quantitative\"}], \"x\": {\"axis\": {\"domain\": false, \"grid\": false, \"labels\": false, \"ticks\": false, \"title\": null}, \"field\": \"fpr_disparity_rank\", \"scale\": {\"domain\": [-2, 2], \"nice\": false}, \"type\": \"quantitative\"}, \"y\": {\"axis\": {\"domain\": false, \"grid\": false, \"labels\": false, \"ticks\": false, \"title\": null}, \"field\": \"y_position\", \"scale\": {\"domain\": [3, 1]}, \"type\": \"quantitative\"}}, \"transform\": [{\"calculate\": \"2\", \"as\": \"y_position\"}]}], \"height\": 84.5, \"resolve\": {\"scale\": {\"x\": \"independent\"}}, \"width\": 240.0}], \"bounds\": \"flush\", \"spacing\": 26.0}], \"bounds\": \"flush\", \"spacing\": 288.0}], \"bounds\": \"flush\", \"spacing\": 80.0}, {\"layer\": [{\"mark\": {\"type\": \"text\", \"align\": \"left\", \"baseline\": \"top\", \"fill\": \"rgb(102, 111, 137)\", \"font\": \"Roboto, Arial, sans-serif\", \"fontSize\": 12, \"fontWeight\": \"normal\"}, \"encoding\": {\"text\": {\"value\": \"For a group to pass the parity test its disparity to the reference group cannot exceed the fairness threshold (1.25).\"}, \"x\": {\"value\": 24.0}, \"y\": {\"value\": 0}}}, {\"mark\": {\"type\": \"text\", \"align\": \"left\", \"baseline\": \"top\", \"fill\": \"rgb(102, 111, 137)\", \"font\": \"Roboto, Arial, sans-serif\", \"fontSize\": 12, \"fontWeight\": \"normal\"}, \"encoding\": {\"text\": {\"value\": \"An attribute passes the parity test for a given metric if all its groups pass the test.\"}, \"x\": {\"value\": 24.0}, \"y\": {\"value\": 15.0}}}], \"data\": {\"name\": \"data-79dd248bdaa0ea02c535240e8ad022c8\"}}], \"padding\": 15, \"usermeta\": {\"embedOptions\": {\"scaleFactor\": 5, \"downloadFileName\": \"summary_chart\"}}, \"$schema\": \"https://vega.github.io/schema/vega-lite/v4.17.0.json\", \"datasets\": {\"data-79dd248bdaa0ea02c535240e8ad022c8\": [{\"a\": 1, \"b\": 0}, {\"a\": 1, \"b\": 0}], \"data-126d4ae515fac080ab56453e43289c66\": [{\"parity_result\": \"Pass\"}], \"data-87e19190d7e3a4f7eba06ad8eb87b4fa\": [{\"fpr_parity_result\": \"Pass\", \"attribute_name\": \"customer_age_bin\", \"total_entities\": 15000, \"group_size\": 2010, \"tooltip_groups_name_size\": \"1 (2,010)\", \"tooltip_group_size\": \"2,010 (13.40%)\"}, {\"fpr_parity_result\": \"Reference\", \"attribute_name\": \"customer_age_bin\", \"total_entities\": 15000, \"group_size\": 12990, \"tooltip_groups_name_size\": \"0 (12,990)\", \"tooltip_group_size\": \"12,990 (86.60%)\"}], \"data-88d9cb0c1583997f004517bb838cc82a\": [{\"attribute_name\": \"customer_age_bin\", \"attribute_value\": \"0\", \"group_size\": 12990, \"total_entities\": 15000, \"ref_group_value\": \"0\", \"fpr\": 0.05303798455658685, \"fpr_disparity\": 1.0, \"fpr_disparity_scaled\": 0.0, \"fpr_parity_result\": \"Reference\", \"tooltip_parity_test_explanation_fpr\": \"Reference group\", \"tooltip_disparity_explanation_fpr\": \"Reference group\", \"tooltip_group_size\": \"12,990 (86.60%)\", \"fpr_disparity_rank\": 0.0, \"group_size_formatted\": \"12,990\", \"tooltip_groups_name_size\": \"0 (12,990)\"}, {\"attribute_name\": \"customer_age_bin\", \"attribute_value\": \"1\", \"group_size\": 2010, \"total_entities\": 15000, \"ref_group_value\": \"0\", \"fpr\": 0.05755395683453238, \"fpr_disparity\": 1.0851460008463818, \"fpr_disparity_scaled\": 0.0851460008463818, \"fpr_parity_result\": \"Pass\", \"tooltip_parity_test_explanation_fpr\": \"Pass. Below fairness threshold of 1.25\", \"tooltip_disparity_explanation_fpr\": \"1.09 times larger FPR than the reference group\", \"tooltip_group_size\": \"2,010 (13.40%)\", \"fpr_disparity_rank\": 1.0, \"group_size_formatted\": \"2,010\", \"tooltip_groups_name_size\": \"1 (2,010)\"}]}}, {\"mode\": \"vega-lite\"});\n",
              "</script>"
            ],
            "text/plain": [
              "alt.VConcatChart(...)"
            ]
          },
          "metadata": {},
          "execution_count": 44
        }
      ],
      "source": [
        "audit_fixed.audit()\n",
        "audit_fixed.summary_plot(fairness_metric)"
      ]
    },
    {
      "cell_type": "code",
      "execution_count": 45,
      "metadata": {
        "colab": {
          "base_uri": "https://localhost:8080/",
          "height": 588
        },
        "id": "wVA6NSSbp7at",
        "outputId": "2ae2e067-7345-46ec-8230-81707f23095e"
      },
      "outputs": [
        {
          "output_type": "stream",
          "name": "stderr",
          "text": [
            "/usr/local/lib/python3.10/dist-packages/altair/utils/core.py:384: FutureWarning: the convert_dtype parameter is deprecated and will be removed in a future version.  Do ``ser.astype(object).apply()`` instead if you want ``convert_dtype=False``.\n",
            "  col = df[col_name].apply(to_list_if_array, convert_dtype=False)\n",
            "/usr/local/lib/python3.10/dist-packages/altair/utils/core.py:384: FutureWarning: the convert_dtype parameter is deprecated and will be removed in a future version.  Do ``ser.astype(object).apply()`` instead if you want ``convert_dtype=False``.\n",
            "  col = df[col_name].apply(to_list_if_array, convert_dtype=False)\n",
            "/usr/local/lib/python3.10/dist-packages/altair/utils/core.py:384: FutureWarning: the convert_dtype parameter is deprecated and will be removed in a future version.  Do ``ser.astype(object).apply()`` instead if you want ``convert_dtype=False``.\n",
            "  col = df[col_name].apply(to_list_if_array, convert_dtype=False)\n",
            "/usr/local/lib/python3.10/dist-packages/altair/utils/core.py:384: FutureWarning: the convert_dtype parameter is deprecated and will be removed in a future version.  Do ``ser.astype(object).apply()`` instead if you want ``convert_dtype=False``.\n",
            "  col = df[col_name].apply(to_list_if_array, convert_dtype=False)\n",
            "/usr/local/lib/python3.10/dist-packages/altair/utils/core.py:384: FutureWarning: the convert_dtype parameter is deprecated and will be removed in a future version.  Do ``ser.astype(object).apply()`` instead if you want ``convert_dtype=False``.\n",
            "  col = df[col_name].apply(to_list_if_array, convert_dtype=False)\n",
            "/usr/local/lib/python3.10/dist-packages/altair/utils/core.py:384: FutureWarning: the convert_dtype parameter is deprecated and will be removed in a future version.  Do ``ser.astype(object).apply()`` instead if you want ``convert_dtype=False``.\n",
            "  col = df[col_name].apply(to_list_if_array, convert_dtype=False)\n",
            "/usr/local/lib/python3.10/dist-packages/altair/utils/core.py:384: FutureWarning: the convert_dtype parameter is deprecated and will be removed in a future version.  Do ``ser.astype(object).apply()`` instead if you want ``convert_dtype=False``.\n",
            "  col = df[col_name].apply(to_list_if_array, convert_dtype=False)\n"
          ]
        },
        {
          "output_type": "execute_result",
          "data": {
            "text/html": [
              "\n",
              "<div id=\"altair-viz-4bdba337aed0467c8f7b93858a4dc007\"></div>\n",
              "<script type=\"text/javascript\">\n",
              "  var VEGA_DEBUG = (typeof VEGA_DEBUG == \"undefined\") ? {} : VEGA_DEBUG;\n",
              "  (function(spec, embedOpt){\n",
              "    let outputDiv = document.currentScript.previousElementSibling;\n",
              "    if (outputDiv.id !== \"altair-viz-4bdba337aed0467c8f7b93858a4dc007\") {\n",
              "      outputDiv = document.getElementById(\"altair-viz-4bdba337aed0467c8f7b93858a4dc007\");\n",
              "    }\n",
              "    const paths = {\n",
              "      \"vega\": \"https://cdn.jsdelivr.net/npm//vega@5?noext\",\n",
              "      \"vega-lib\": \"https://cdn.jsdelivr.net/npm//vega-lib?noext\",\n",
              "      \"vega-lite\": \"https://cdn.jsdelivr.net/npm//vega-lite@4.17.0?noext\",\n",
              "      \"vega-embed\": \"https://cdn.jsdelivr.net/npm//vega-embed@6?noext\",\n",
              "    };\n",
              "\n",
              "    function maybeLoadScript(lib, version) {\n",
              "      var key = `${lib.replace(\"-\", \"\")}_version`;\n",
              "      return (VEGA_DEBUG[key] == version) ?\n",
              "        Promise.resolve(paths[lib]) :\n",
              "        new Promise(function(resolve, reject) {\n",
              "          var s = document.createElement('script');\n",
              "          document.getElementsByTagName(\"head\")[0].appendChild(s);\n",
              "          s.async = true;\n",
              "          s.onload = () => {\n",
              "            VEGA_DEBUG[key] = version;\n",
              "            return resolve(paths[lib]);\n",
              "          };\n",
              "          s.onerror = () => reject(`Error loading script: ${paths[lib]}`);\n",
              "          s.src = paths[lib];\n",
              "        });\n",
              "    }\n",
              "\n",
              "    function showError(err) {\n",
              "      outputDiv.innerHTML = `<div class=\"error\" style=\"color:red;\">${err}</div>`;\n",
              "      throw err;\n",
              "    }\n",
              "\n",
              "    function displayChart(vegaEmbed) {\n",
              "      vegaEmbed(outputDiv, spec, embedOpt)\n",
              "        .catch(err => showError(`Javascript Error: ${err.message}<br>This usually means there's a typo in your chart specification. See the javascript console for the full traceback.`));\n",
              "    }\n",
              "\n",
              "    if(typeof define === \"function\" && define.amd) {\n",
              "      requirejs.config({paths});\n",
              "      require([\"vega-embed\"], displayChart, err => showError(`Error loading script: ${err.message}`));\n",
              "    } else {\n",
              "      maybeLoadScript(\"vega\", \"5\")\n",
              "        .then(() => maybeLoadScript(\"vega-lite\", \"4.17.0\"))\n",
              "        .then(() => maybeLoadScript(\"vega-embed\", \"6\"))\n",
              "        .catch(showError)\n",
              "        .then(() => displayChart(vegaEmbed));\n",
              "    }\n",
              "  })({\"config\": {\"view\": {\"continuousWidth\": 400, \"continuousHeight\": 300, \"strokeWidth\": 0}, \"axisLeft\": {\"labelColor\": \"rgb(102, 111, 137)\", \"labelFont\": \"Roboto, Arial, sans-serif\", \"labelFontSize\": 16}, \"title\": {\"anchor\": \"start\", \"color\": \"rgb(25, 39, 78)\", \"font\": \"Roboto, Arial, sans-serif\", \"fontSize\": 20, \"fontWeight\": \"bold\", \"offset\": 20}}, \"layer\": [{\"data\": {\"name\": \"data-38121450c6697f570e9bf3f18efe866c\"}, \"mark\": {\"type\": \"rule\", \"stroke\": \"rgb(102, 111, 137)\", \"strokeWidth\": 1.25, \"tooltip\": null}, \"encoding\": {\"x\": {\"field\": \"x\", \"scale\": {\"domain\": [-2, 2], \"range\": [40.0, 760.0]}, \"type\": \"quantitative\"}, \"x2\": {\"field\": \"x2\"}, \"y\": {\"axis\": {\"domain\": false, \"labelAngle\": 0, \"labelPadding\": -30, \"orient\": \"left\", \"ticks\": false, \"title\": null}, \"field\": \"metric\", \"scale\": {\"domain\": [\"FPR\"], \"range\": [30, 225.0]}, \"type\": \"nominal\"}}}, {\"data\": {\"name\": \"data-79dd248bdaa0ea02c535240e8ad022c8\"}, \"mark\": {\"type\": \"rule\", \"stroke\": \"rgb(102, 111, 137)\", \"strokeDash\": [5, 5], \"strokeWidth\": 1}, \"encoding\": {\"tooltip\": {\"value\": \"0 [REF]\"}, \"x\": {\"value\": 400.0}, \"y\": {\"value\": 20.833333333333336}, \"y2\": {\"value\": 229.16666666666666}}}, {\"data\": {\"name\": \"data-c233327f4cd9b4c2df31bf8015c83e4a\"}, \"mark\": {\"type\": \"text\", \"align\": \"center\", \"color\": \"rgb(102, 111, 137)\", \"font\": \"Roboto, Arial, sans-serif\", \"fontSize\": 12, \"fontWeight\": \"normal\", \"tooltip\": null}, \"encoding\": {\"text\": {\"field\": \"label\", \"type\": \"nominal\"}, \"x\": {\"field\": \"value\", \"scale\": {\"domain\": [-2, 2], \"range\": [40.0, 760.0]}, \"type\": \"quantitative\"}, \"y\": {\"value\": 17.5}}}, {\"layer\": [{\"mark\": {\"type\": \"text\", \"align\": \"left\", \"fill\": \"rgb(102, 111, 137)\", \"font\": \"Roboto, Arial, sans-serif\", \"fontSize\": 12, \"fontWeight\": \"normal\", \"tooltip\": null}, \"encoding\": {\"text\": {\"value\": \"Times Smaller\"}, \"x\": {\"value\": 40.0}, \"y\": {\"value\": 7.5}}}, {\"mark\": {\"type\": \"text\", \"align\": \"right\", \"fill\": \"rgb(102, 111, 137)\", \"font\": \"Roboto, Arial, sans-serif\", \"fontSize\": 12, \"fontWeight\": \"normal\", \"tooltip\": null}, \"encoding\": {\"text\": {\"value\": \"Times Larger\"}, \"x\": {\"value\": 760.0}, \"y\": {\"value\": 7.5}}}, {\"mark\": {\"type\": \"text\", \"align\": \"center\", \"fill\": \"rgb(102, 111, 137)\", \"font\": \"Roboto, Arial, sans-serif\", \"fontSize\": 12, \"fontWeight\": \"normal\", \"tooltip\": null}, \"encoding\": {\"text\": {\"value\": \"Equal\"}, \"x\": {\"value\": 400.0}, \"y\": {\"value\": 7.5}}}], \"data\": {\"name\": \"data-79dd248bdaa0ea02c535240e8ad022c8\"}}, {\"layer\": [{\"mark\": {\"type\": \"rule\", \"opacity\": 0.8, \"stroke\": \"rgb(211, 47, 47)\", \"strokeWidth\": 1.25, \"tooltip\": null}, \"encoding\": {\"x\": {\"field\": \"min\", \"scale\": {\"domain\": [-2, 2], \"range\": [40.0, 760.0]}, \"type\": \"quantitative\"}, \"y\": {\"value\": 25.0}, \"y2\": {\"value\": 225.0}}}, {\"mark\": {\"type\": \"rule\", \"opacity\": 0.8, \"stroke\": \"rgb(211, 47, 47)\", \"strokeWidth\": 1.25, \"tooltip\": null}, \"encoding\": {\"x\": {\"field\": \"max\", \"scale\": {\"domain\": [-2, 2], \"range\": [40.0, 760.0]}, \"type\": \"quantitative\"}, \"y\": {\"value\": 25.0}, \"y2\": {\"value\": 225.0}}}, {\"layer\": [{\"mark\": {\"type\": \"rect\", \"fill\": \"rgb(211, 47, 47)\", \"opacity\": 0.1, \"tooltip\": null}, \"encoding\": {\"x\": {\"field\": \"min\", \"scale\": {\"domain\": [-2, 2], \"range\": [40.0, 760.0]}, \"type\": \"quantitative\"}, \"x2\": {\"field\": \"lower_end\"}, \"y\": {\"value\": 25.0}, \"y2\": {\"value\": 225.0}}}, {\"mark\": {\"type\": \"rect\", \"fill\": \"rgb(211, 47, 47)\", \"opacity\": 0.1, \"tooltip\": null}, \"encoding\": {\"x\": {\"field\": \"max\", \"scale\": {\"domain\": [-2, 2], \"range\": [40.0, 760.0]}, \"type\": \"quantitative\"}, \"x2\": {\"field\": \"upper_end\"}, \"y\": {\"value\": 25.0}, \"y2\": {\"value\": 225.0}}}]}, {\"layer\": [{\"mark\": {\"type\": \"text\", \"align\": \"left\", \"baseline\": \"top\", \"fill\": \"rgb(211, 47, 47)\", \"font\": \"Roboto, Arial, sans-serif\", \"fontSize\": 12, \"fontWeight\": \"normal\", \"tooltip\": null}, \"encoding\": {\"text\": {\"value\": \"The metric value for any group should not be 1.25 (or more) times smaller or larger than that of the reference group 0.\"}, \"x\": {\"value\": 0}, \"y\": {\"value\": 233.33333333333334}}}], \"data\": {\"name\": \"data-79dd248bdaa0ea02c535240e8ad022c8\"}}], \"data\": {\"name\": \"data-feb20f5d4dfe62687617135ffee93d46\"}}, {\"layer\": [{\"data\": {\"name\": \"empty\"}, \"mark\": \"circle\"}, {\"data\": {\"name\": \"data-78d060a07eabc56fc92ba98385215133\"}, \"mark\": {\"type\": \"circle\", \"cursor\": \"pointer\", \"opacity\": 0.2}, \"encoding\": {\"color\": {\"condition\": {\"field\": \"attribute_value\", \"legend\": null, \"scale\": {\"domain\": [\"0\", \"1\"], \"range\": [\"rgb(102, 111, 137)\", \"rgb(76, 136, 238)\", \"rgb(254, 97, 0)\", \"rgb(220, 38, 127)\", \"rgb(255, 176, 0)\", \"rgb(150, 95, 230)\"]}, \"type\": \"nominal\", \"selection\": \"selector013\"}, \"value\": \"rgb(225, 226, 231)\"}, \"size\": {\"field\": \"group_size\", \"legend\": null, \"scale\": {\"domain\": [0, 15588.0], \"range\": [0, 7853.981633974483]}, \"type\": \"quantitative\"}, \"tooltip\": [{\"field\": \"attribute_value\", \"title\": \"Group\", \"type\": \"nominal\"}, {\"field\": \"tooltip_group_size\", \"title\": \"Group Size\", \"type\": \"nominal\"}, {\"field\": \"tooltip_disparity_explanation_fpr\", \"title\": \"Disparity\", \"type\": \"nominal\"}, {\"field\": \"fpr\", \"format\": \".2f\", \"title\": \"FPR\", \"type\": \"quantitative\"}], \"x\": {\"axis\": {\"domain\": false, \"gridColor\": \"rgb(225, 226, 231)\", \"labels\": false, \"ticks\": false, \"title\": null, \"values\": [1, 2, -2, -1]}, \"field\": \"fpr_disparity_scaled\", \"scale\": {\"domain\": [-2, 2], \"range\": [40.0, 760.0]}, \"type\": \"quantitative\"}, \"y\": {\"axis\": {\"domain\": false, \"grid\": false, \"labels\": false, \"ticks\": false, \"title\": null}, \"field\": \"metric_variable\", \"scale\": {\"domain\": [\"FPR\"], \"range\": [30, 225.0]}, \"type\": \"nominal\"}}, \"selection\": {\"selector015\": {\"type\": \"multi\", \"empty\": \"all\", \"fields\": [\"attribute_value\"]}}, \"transform\": [{\"calculate\": \"'FPR'\", \"as\": \"metric_variable\"}]}, {\"layer\": [{\"data\": {\"name\": \"empty\"}, \"mark\": \"point\"}, {\"data\": {\"name\": \"data-78d060a07eabc56fc92ba98385215133\"}, \"mark\": {\"type\": \"point\", \"cursor\": \"pointer\", \"filled\": true, \"size\": 60}, \"encoding\": {\"color\": {\"condition\": {\"field\": \"attribute_value\", \"legend\": null, \"scale\": {\"domain\": [\"0\", \"1\"], \"range\": [\"rgb(102, 111, 137)\", \"rgb(76, 136, 238)\", \"rgb(254, 97, 0)\", \"rgb(220, 38, 127)\", \"rgb(255, 176, 0)\", \"rgb(150, 95, 230)\"]}, \"type\": \"nominal\", \"selection\": \"selector013\"}, \"value\": \"rgb(225, 226, 231)\"}, \"shape\": {\"field\": \"attribute_value\", \"legend\": null, \"scale\": {\"domain\": [\"0\", \"1\"], \"range\": [\"cross\", \"circle\"]}, \"type\": \"nominal\"}, \"tooltip\": [{\"field\": \"attribute_value\", \"title\": \"Group\", \"type\": \"nominal\"}, {\"field\": \"tooltip_group_size\", \"title\": \"Group Size\", \"type\": \"nominal\"}, {\"field\": \"tooltip_disparity_explanation_fpr\", \"title\": \"Disparity\", \"type\": \"nominal\"}, {\"field\": \"fpr\", \"format\": \".2f\", \"title\": \"FPR\", \"type\": \"quantitative\"}], \"x\": {\"axis\": {\"domain\": false, \"gridColor\": \"rgb(225, 226, 231)\", \"labels\": false, \"ticks\": false, \"title\": null, \"values\": [1, 2, -2, -1]}, \"field\": \"fpr_disparity_scaled\", \"scale\": {\"domain\": [-2, 2], \"range\": [40.0, 760.0]}, \"type\": \"quantitative\"}, \"y\": {\"axis\": {\"domain\": false, \"grid\": false, \"labels\": false, \"ticks\": false, \"title\": null}, \"field\": \"metric_variable\", \"scale\": {\"domain\": [\"FPR\"], \"range\": [30, 225.0]}, \"type\": \"nominal\"}}, \"selection\": {\"selector014\": {\"type\": \"multi\", \"empty\": \"all\", \"fields\": [\"attribute_value\"]}}, \"transform\": [{\"calculate\": \"'FPR'\", \"as\": \"metric_variable\"}]}]}]}, {\"layer\": [{\"mark\": {\"type\": \"point\", \"cursor\": \"pointer\", \"filled\": true, \"opacity\": 1, \"size\": 40}, \"encoding\": {\"color\": {\"condition\": {\"field\": \"attribute_value\", \"legend\": null, \"scale\": {\"domain\": [\"0\", \"1\"], \"range\": [\"rgb(102, 111, 137)\", \"rgb(76, 136, 238)\", \"rgb(254, 97, 0)\", \"rgb(220, 38, 127)\", \"rgb(255, 176, 0)\", \"rgb(150, 95, 230)\"]}, \"type\": \"nominal\", \"selection\": \"selector013\"}, \"value\": \"rgb(225, 226, 231)\"}, \"shape\": {\"field\": \"attribute_value\", \"legend\": null, \"scale\": {\"domain\": [\"0\", \"1\"], \"range\": [\"cross\", \"circle\"]}, \"type\": \"nominal\"}, \"x\": {\"value\": 807.5682482323056}, \"y\": {\"axis\": {\"domain\": false, \"grid\": false, \"labels\": false, \"ticks\": false, \"title\": null}, \"field\": \"attribute_value\", \"scale\": {\"domain\": [\"0\", \"1\"], \"range\": [54, 86]}, \"type\": \"nominal\"}}, \"selection\": {\"selector013\": {\"type\": \"multi\", \"empty\": \"all\", \"fields\": [\"attribute_value\"]}}}, {\"mark\": {\"type\": \"text\", \"align\": \"left\", \"baseline\": \"middle\", \"cursor\": \"pointer\", \"font\": \"Roboto, Arial, sans-serif\", \"fontSize\": 12, \"fontWeight\": \"normal\"}, \"encoding\": {\"color\": {\"condition\": {\"field\": \"attribute_value\", \"legend\": null, \"scale\": {\"domain\": [\"0\", \"1\"], \"range\": [\"rgb(102, 111, 137)\", \"rgb(76, 136, 238)\", \"rgb(254, 97, 0)\", \"rgb(220, 38, 127)\", \"rgb(255, 176, 0)\", \"rgb(150, 95, 230)\"]}, \"type\": \"nominal\", \"selection\": \"selector013\"}, \"value\": \"rgb(225, 226, 231)\"}, \"text\": {\"field\": \"label\", \"type\": \"nominal\"}, \"x\": {\"value\": 818.1364964646111}, \"y\": {\"axis\": {\"domain\": false, \"grid\": false, \"labels\": false, \"ticks\": false, \"title\": null}, \"field\": \"attribute_value\", \"scale\": {\"domain\": [\"0\", \"1\"], \"range\": [54, 86]}, \"type\": \"nominal\"}}, \"selection\": {\"selector016\": {\"type\": \"multi\", \"empty\": \"all\", \"fields\": [\"attribute_value\"]}}}, {\"data\": {\"name\": \"data-79dd248bdaa0ea02c535240e8ad022c8\"}, \"mark\": {\"type\": \"text\", \"align\": \"left\", \"baseline\": \"top\", \"color\": \"rgb(25, 39, 78)\", \"font\": \"Roboto, Arial, sans-serif\", \"fontSize\": 12, \"fontWeight\": \"bold\"}, \"encoding\": {\"text\": {\"value\": \"(click to highlight)\"}, \"x\": {\"value\": 800}, \"y\": {\"value\": 34}}}, {\"data\": {\"name\": \"data-79dd248bdaa0ea02c535240e8ad022c8\"}, \"mark\": {\"type\": \"text\", \"align\": \"left\", \"baseline\": \"top\", \"color\": \"rgb(25, 39, 78)\", \"font\": \"Roboto, Arial, sans-serif\", \"fontSize\": 12, \"fontWeight\": \"bold\"}, \"encoding\": {\"text\": {\"value\": \"Groups\"}, \"x\": {\"value\": 800}, \"y\": {\"value\": 20}}}], \"data\": {\"name\": \"data-711e50c9c74ea5e50c1544827342332e\"}}], \"height\": 250, \"padding\": {\"top\": 15, \"bottom\": 7.0, \"left\": 15, \"right\": 15}, \"resolve\": {\"scale\": {\"size\": \"independent\", \"y\": \"independent\"}}, \"title\": \"Disparities on Customer_Age_Bin\", \"usermeta\": {\"embedOptions\": {\"scaleFactor\": 5, \"downloadFileName\": \"disparity_chart\"}}, \"width\": 800, \"$schema\": \"https://vega.github.io/schema/vega-lite/v4.17.0.json\", \"datasets\": {\"data-38121450c6697f570e9bf3f18efe866c\": [{\"metric\": \"FPR\", \"x\": -2, \"x2\": 2}], \"data-79dd248bdaa0ea02c535240e8ad022c8\": [{\"a\": 1, \"b\": 0}, {\"a\": 1, \"b\": 0}], \"data-c233327f4cd9b4c2df31bf8015c83e4a\": [{\"value\": 1, \"label\": 2}, {\"value\": 2, \"label\": 3}, {\"value\": -2, \"label\": 3}, {\"value\": -1, \"label\": 2}, {\"value\": 0, \"label\": \"=\"}], \"data-feb20f5d4dfe62687617135ffee93d46\": [{\"min\": -0.25, \"max\": 0.25, \"lower_end\": -2, \"upper_end\": 2}], \"empty\": [{}], \"data-78d060a07eabc56fc92ba98385215133\": [{\"attribute_name\": \"customer_age_bin\", \"attribute_value\": \"0\", \"group_size\": 12990, \"total_entities\": 15000, \"fpr\": 0.05303798455658685, \"fpr_disparity\": 1.0, \"fpr_disparity_scaled\": 0.0, \"tooltip_group_size\": \"12,990 (86.60%)\", \"tooltip_disparity_explanation_fpr\": \"Reference group\"}, {\"attribute_name\": \"customer_age_bin\", \"attribute_value\": \"1\", \"group_size\": 2010, \"total_entities\": 15000, \"fpr\": 0.05755395683453238, \"fpr_disparity\": 1.0851460008463818, \"fpr_disparity_scaled\": 0.0851460008463818, \"tooltip_group_size\": \"2,010 (13.40%)\", \"tooltip_disparity_explanation_fpr\": \"1.09 times larger FPR than the reference group\"}], \"data-711e50c9c74ea5e50c1544827342332e\": [{\"attribute_value\": \"0\", \"label\": \"0 [REF]\"}, {\"attribute_value\": \"1\", \"label\": \"1\"}]}}, {\"mode\": \"vega-lite\"});\n",
              "</script>"
            ],
            "text/plain": [
              "alt.LayerChart(...)"
            ]
          },
          "metadata": {},
          "execution_count": 45
        }
      ],
      "source": [
        "audit_fixed.disparity_plot(fairness_metric, fairness_column)"
      ]
    },
    {
      "cell_type": "code",
      "execution_count": 46,
      "metadata": {
        "colab": {
          "base_uri": "https://localhost:8080/",
          "height": 112
        },
        "id": "EVh1lFbCAw_h",
        "outputId": "0f34ed93-e9a5-43a8-a92e-e7b38ba34dd3"
      },
      "outputs": [
        {
          "output_type": "execute_result",
          "data": {
            "text/plain": [
              "     attribute_name attribute_value       tpr       fpr  accuracy  precision\n",
              "0  customer_age_bin               0  0.520710  0.053038  0.941416   0.114583\n",
              "1  customer_age_bin               1  0.453125  0.057554  0.926866   0.205674"
            ],
            "text/html": [
              "\n",
              "  <div id=\"df-25e9ba6c-716c-4356-b3af-939022179251\" class=\"colab-df-container\">\n",
              "    <div>\n",
              "<style scoped>\n",
              "    .dataframe tbody tr th:only-of-type {\n",
              "        vertical-align: middle;\n",
              "    }\n",
              "\n",
              "    .dataframe tbody tr th {\n",
              "        vertical-align: top;\n",
              "    }\n",
              "\n",
              "    .dataframe thead th {\n",
              "        text-align: right;\n",
              "    }\n",
              "</style>\n",
              "<table border=\"1\" class=\"dataframe\">\n",
              "  <thead>\n",
              "    <tr style=\"text-align: right;\">\n",
              "      <th></th>\n",
              "      <th>attribute_name</th>\n",
              "      <th>attribute_value</th>\n",
              "      <th>tpr</th>\n",
              "      <th>fpr</th>\n",
              "      <th>accuracy</th>\n",
              "      <th>precision</th>\n",
              "    </tr>\n",
              "  </thead>\n",
              "  <tbody>\n",
              "    <tr>\n",
              "      <th>0</th>\n",
              "      <td>customer_age_bin</td>\n",
              "      <td>0</td>\n",
              "      <td>0.520710</td>\n",
              "      <td>0.053038</td>\n",
              "      <td>0.941416</td>\n",
              "      <td>0.114583</td>\n",
              "    </tr>\n",
              "    <tr>\n",
              "      <th>1</th>\n",
              "      <td>customer_age_bin</td>\n",
              "      <td>1</td>\n",
              "      <td>0.453125</td>\n",
              "      <td>0.057554</td>\n",
              "      <td>0.926866</td>\n",
              "      <td>0.205674</td>\n",
              "    </tr>\n",
              "  </tbody>\n",
              "</table>\n",
              "</div>\n",
              "    <div class=\"colab-df-buttons\">\n",
              "\n",
              "  <div class=\"colab-df-container\">\n",
              "    <button class=\"colab-df-convert\" onclick=\"convertToInteractive('df-25e9ba6c-716c-4356-b3af-939022179251')\"\n",
              "            title=\"Convert this dataframe to an interactive table.\"\n",
              "            style=\"display:none;\">\n",
              "\n",
              "  <svg xmlns=\"http://www.w3.org/2000/svg\" height=\"24px\" viewBox=\"0 -960 960 960\">\n",
              "    <path d=\"M120-120v-720h720v720H120Zm60-500h600v-160H180v160Zm220 220h160v-160H400v160Zm0 220h160v-160H400v160ZM180-400h160v-160H180v160Zm440 0h160v-160H620v160ZM180-180h160v-160H180v160Zm440 0h160v-160H620v160Z\"/>\n",
              "  </svg>\n",
              "    </button>\n",
              "\n",
              "  <style>\n",
              "    .colab-df-container {\n",
              "      display:flex;\n",
              "      gap: 12px;\n",
              "    }\n",
              "\n",
              "    .colab-df-convert {\n",
              "      background-color: #E8F0FE;\n",
              "      border: none;\n",
              "      border-radius: 50%;\n",
              "      cursor: pointer;\n",
              "      display: none;\n",
              "      fill: #1967D2;\n",
              "      height: 32px;\n",
              "      padding: 0 0 0 0;\n",
              "      width: 32px;\n",
              "    }\n",
              "\n",
              "    .colab-df-convert:hover {\n",
              "      background-color: #E2EBFA;\n",
              "      box-shadow: 0px 1px 2px rgba(60, 64, 67, 0.3), 0px 1px 3px 1px rgba(60, 64, 67, 0.15);\n",
              "      fill: #174EA6;\n",
              "    }\n",
              "\n",
              "    .colab-df-buttons div {\n",
              "      margin-bottom: 4px;\n",
              "    }\n",
              "\n",
              "    [theme=dark] .colab-df-convert {\n",
              "      background-color: #3B4455;\n",
              "      fill: #D2E3FC;\n",
              "    }\n",
              "\n",
              "    [theme=dark] .colab-df-convert:hover {\n",
              "      background-color: #434B5C;\n",
              "      box-shadow: 0px 1px 3px 1px rgba(0, 0, 0, 0.15);\n",
              "      filter: drop-shadow(0px 1px 2px rgba(0, 0, 0, 0.3));\n",
              "      fill: #FFFFFF;\n",
              "    }\n",
              "  </style>\n",
              "\n",
              "    <script>\n",
              "      const buttonEl =\n",
              "        document.querySelector('#df-25e9ba6c-716c-4356-b3af-939022179251 button.colab-df-convert');\n",
              "      buttonEl.style.display =\n",
              "        google.colab.kernel.accessAllowed ? 'block' : 'none';\n",
              "\n",
              "      async function convertToInteractive(key) {\n",
              "        const element = document.querySelector('#df-25e9ba6c-716c-4356-b3af-939022179251');\n",
              "        const dataTable =\n",
              "          await google.colab.kernel.invokeFunction('convertToInteractive',\n",
              "                                                    [key], {});\n",
              "        if (!dataTable) return;\n",
              "\n",
              "        const docLinkHtml = 'Like what you see? Visit the ' +\n",
              "          '<a target=\"_blank\" href=https://colab.research.google.com/notebooks/data_table.ipynb>data table notebook</a>'\n",
              "          + ' to learn more about interactive tables.';\n",
              "        element.innerHTML = '';\n",
              "        dataTable['output_type'] = 'display_data';\n",
              "        await google.colab.output.renderOutput(dataTable, element);\n",
              "        const docLink = document.createElement('div');\n",
              "        docLink.innerHTML = docLinkHtml;\n",
              "        element.appendChild(docLink);\n",
              "      }\n",
              "    </script>\n",
              "  </div>\n",
              "\n",
              "\n",
              "<div id=\"df-a161470c-f833-43a1-93b1-c0ffd7435f3d\">\n",
              "  <button class=\"colab-df-quickchart\" onclick=\"quickchart('df-a161470c-f833-43a1-93b1-c0ffd7435f3d')\"\n",
              "            title=\"Suggest charts\"\n",
              "            style=\"display:none;\">\n",
              "\n",
              "<svg xmlns=\"http://www.w3.org/2000/svg\" height=\"24px\"viewBox=\"0 0 24 24\"\n",
              "     width=\"24px\">\n",
              "    <g>\n",
              "        <path d=\"M19 3H5c-1.1 0-2 .9-2 2v14c0 1.1.9 2 2 2h14c1.1 0 2-.9 2-2V5c0-1.1-.9-2-2-2zM9 17H7v-7h2v7zm4 0h-2V7h2v10zm4 0h-2v-4h2v4z\"/>\n",
              "    </g>\n",
              "</svg>\n",
              "  </button>\n",
              "\n",
              "<style>\n",
              "  .colab-df-quickchart {\n",
              "      --bg-color: #E8F0FE;\n",
              "      --fill-color: #1967D2;\n",
              "      --hover-bg-color: #E2EBFA;\n",
              "      --hover-fill-color: #174EA6;\n",
              "      --disabled-fill-color: #AAA;\n",
              "      --disabled-bg-color: #DDD;\n",
              "  }\n",
              "\n",
              "  [theme=dark] .colab-df-quickchart {\n",
              "      --bg-color: #3B4455;\n",
              "      --fill-color: #D2E3FC;\n",
              "      --hover-bg-color: #434B5C;\n",
              "      --hover-fill-color: #FFFFFF;\n",
              "      --disabled-bg-color: #3B4455;\n",
              "      --disabled-fill-color: #666;\n",
              "  }\n",
              "\n",
              "  .colab-df-quickchart {\n",
              "    background-color: var(--bg-color);\n",
              "    border: none;\n",
              "    border-radius: 50%;\n",
              "    cursor: pointer;\n",
              "    display: none;\n",
              "    fill: var(--fill-color);\n",
              "    height: 32px;\n",
              "    padding: 0;\n",
              "    width: 32px;\n",
              "  }\n",
              "\n",
              "  .colab-df-quickchart:hover {\n",
              "    background-color: var(--hover-bg-color);\n",
              "    box-shadow: 0 1px 2px rgba(60, 64, 67, 0.3), 0 1px 3px 1px rgba(60, 64, 67, 0.15);\n",
              "    fill: var(--button-hover-fill-color);\n",
              "  }\n",
              "\n",
              "  .colab-df-quickchart-complete:disabled,\n",
              "  .colab-df-quickchart-complete:disabled:hover {\n",
              "    background-color: var(--disabled-bg-color);\n",
              "    fill: var(--disabled-fill-color);\n",
              "    box-shadow: none;\n",
              "  }\n",
              "\n",
              "  .colab-df-spinner {\n",
              "    border: 2px solid var(--fill-color);\n",
              "    border-color: transparent;\n",
              "    border-bottom-color: var(--fill-color);\n",
              "    animation:\n",
              "      spin 1s steps(1) infinite;\n",
              "  }\n",
              "\n",
              "  @keyframes spin {\n",
              "    0% {\n",
              "      border-color: transparent;\n",
              "      border-bottom-color: var(--fill-color);\n",
              "      border-left-color: var(--fill-color);\n",
              "    }\n",
              "    20% {\n",
              "      border-color: transparent;\n",
              "      border-left-color: var(--fill-color);\n",
              "      border-top-color: var(--fill-color);\n",
              "    }\n",
              "    30% {\n",
              "      border-color: transparent;\n",
              "      border-left-color: var(--fill-color);\n",
              "      border-top-color: var(--fill-color);\n",
              "      border-right-color: var(--fill-color);\n",
              "    }\n",
              "    40% {\n",
              "      border-color: transparent;\n",
              "      border-right-color: var(--fill-color);\n",
              "      border-top-color: var(--fill-color);\n",
              "    }\n",
              "    60% {\n",
              "      border-color: transparent;\n",
              "      border-right-color: var(--fill-color);\n",
              "    }\n",
              "    80% {\n",
              "      border-color: transparent;\n",
              "      border-right-color: var(--fill-color);\n",
              "      border-bottom-color: var(--fill-color);\n",
              "    }\n",
              "    90% {\n",
              "      border-color: transparent;\n",
              "      border-bottom-color: var(--fill-color);\n",
              "    }\n",
              "  }\n",
              "</style>\n",
              "\n",
              "  <script>\n",
              "    async function quickchart(key) {\n",
              "      const quickchartButtonEl =\n",
              "        document.querySelector('#' + key + ' button');\n",
              "      quickchartButtonEl.disabled = true;  // To prevent multiple clicks.\n",
              "      quickchartButtonEl.classList.add('colab-df-spinner');\n",
              "      try {\n",
              "        const charts = await google.colab.kernel.invokeFunction(\n",
              "            'suggestCharts', [key], {});\n",
              "      } catch (error) {\n",
              "        console.error('Error during call to suggestCharts:', error);\n",
              "      }\n",
              "      quickchartButtonEl.classList.remove('colab-df-spinner');\n",
              "      quickchartButtonEl.classList.add('colab-df-quickchart-complete');\n",
              "    }\n",
              "    (() => {\n",
              "      let quickchartButtonEl =\n",
              "        document.querySelector('#df-a161470c-f833-43a1-93b1-c0ffd7435f3d button');\n",
              "      quickchartButtonEl.style.display =\n",
              "        google.colab.kernel.accessAllowed ? 'block' : 'none';\n",
              "    })();\n",
              "  </script>\n",
              "</div>\n",
              "\n",
              "    </div>\n",
              "  </div>\n"
            ],
            "application/vnd.google.colaboratory.intrinsic+json": {
              "type": "dataframe",
              "summary": "{\n  \"name\": \"audit_fixed\",\n  \"rows\": 2,\n  \"fields\": [\n    {\n      \"column\": \"attribute_name\",\n      \"properties\": {\n        \"dtype\": \"string\",\n        \"num_unique_values\": 1,\n        \"samples\": [\n          \"customer_age_bin\"\n        ],\n        \"semantic_type\": \"\",\n        \"description\": \"\"\n      }\n    },\n    {\n      \"column\": \"attribute_value\",\n      \"properties\": {\n        \"dtype\": \"string\",\n        \"num_unique_values\": 2,\n        \"samples\": [\n          \"1\"\n        ],\n        \"semantic_type\": \"\",\n        \"description\": \"\"\n      }\n    },\n    {\n      \"column\": \"tpr\",\n      \"properties\": {\n        \"dtype\": \"number\",\n        \"std\": 0.04778985364713075,\n        \"min\": 0.453125,\n        \"max\": 0.5207100591715976,\n        \"num_unique_values\": 2,\n        \"samples\": [\n          0.453125\n        ],\n        \"semantic_type\": \"\",\n        \"description\": \"\"\n      }\n    },\n    {\n      \"column\": \"fpr\",\n      \"properties\": {\n        \"dtype\": \"number\",\n        \"std\": 0.003193274621385743,\n        \"min\": 0.05303798455658685,\n        \"max\": 0.05755395683453238,\n        \"num_unique_values\": 2,\n        \"samples\": [\n          0.05755395683453238\n        ],\n        \"semantic_type\": \"\",\n        \"description\": \"\"\n      }\n    },\n    {\n      \"column\": \"accuracy\",\n      \"properties\": {\n        \"dtype\": \"number\",\n        \"std\": 0.010288971168345836,\n        \"min\": 0.926865671641791,\n        \"max\": 0.9414164742109314,\n        \"num_unique_values\": 2,\n        \"samples\": [\n          0.926865671641791\n        ],\n        \"semantic_type\": \"\",\n        \"description\": \"\"\n      }\n    },\n    {\n      \"column\": \"precision\",\n      \"properties\": {\n        \"dtype\": \"number\",\n        \"std\": 0.06441065759478524,\n        \"min\": 0.11458333333333333,\n        \"max\": 0.20567375886524822,\n        \"num_unique_values\": 2,\n        \"samples\": [\n          0.20567375886524822\n        ],\n        \"semantic_type\": \"\",\n        \"description\": \"\"\n      }\n    }\n  ]\n}"
            }
          },
          "metadata": {},
          "execution_count": 46
        }
      ],
      "source": [
        "audit_fixed.metrics_df[[\"attribute_name\", \"attribute_value\", \"tpr\", \"fpr\", \"accuracy\", \"precision\"]]"
      ]
    },
    {
      "cell_type": "code",
      "execution_count": 46,
      "metadata": {
        "id": "dYK6cEktbQmK"
      },
      "outputs": [],
      "source": []
    }
  ],
  "metadata": {
    "colab": {
      "provenance": []
    },
    "kernelspec": {
      "display_name": "Python 3",
      "name": "python3"
    },
    "language_info": {
      "name": "python"
    }
  },
  "nbformat": 4,
  "nbformat_minor": 0
}